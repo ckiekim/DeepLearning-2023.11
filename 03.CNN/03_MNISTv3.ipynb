{
  "nbformat": 4,
  "nbformat_minor": 0,
  "metadata": {
    "colab": {
      "provenance": [],
      "gpuType": "T4"
    },
    "kernelspec": {
      "name": "python3",
      "display_name": "Python 3"
    },
    "language_info": {
      "name": "python"
    },
    "accelerator": "GPU"
  },
  "cells": [
    {
      "cell_type": "markdown",
      "source": [
        "## MNIST 손글씨 - CNN v3\n",
        "- 2 x Conv2D layers\n",
        "- 1 MaxPooling2D layer\n",
        "- 1 Dropout(0.25) layer\n",
        "- 1 FCN layer\n",
        "- 1 Dropout(0.5) layer\n",
        "- 1 Output layer"
      ],
      "metadata": {
        "id": "S9wFLYv3e8yS"
      }
    },
    {
      "cell_type": "code",
      "execution_count": 1,
      "metadata": {
        "id": "Sq8JQVaKe1He"
      },
      "outputs": [],
      "source": [
        "import numpy as np\n",
        "import matplotlib.pyplot as plt\n",
        "import tensorflow as tf\n",
        "seed = 2023\n",
        "np.random.seed(seed)\n",
        "tf.random.set_seed(seed)"
      ]
    },
    {
      "cell_type": "code",
      "source": [
        "tf.__version__"
      ],
      "metadata": {
        "colab": {
          "base_uri": "https://localhost:8080/",
          "height": 35
        },
        "id": "u7TkzlZifiiI",
        "outputId": "71d8fc02-9a56-416c-b6f3-428c7bc44372"
      },
      "execution_count": 2,
      "outputs": [
        {
          "output_type": "execute_result",
          "data": {
            "text/plain": [
              "'2.14.0'"
            ],
            "application/vnd.google.colaboratory.intrinsic+json": {
              "type": "string"
            }
          },
          "metadata": {},
          "execution_count": 2
        }
      ]
    },
    {
      "cell_type": "markdown",
      "source": [
        "- 데이터 전처리"
      ],
      "metadata": {
        "id": "TsaCZWhlfdKA"
      }
    },
    {
      "cell_type": "code",
      "source": [
        "from tensorflow.keras.datasets import mnist\n",
        "(X_train, y_train), (X_test, y_test) = mnist.load_data()\n",
        "X_train.shape, y_train.shape, X_test.shape, y_test.shape"
      ],
      "metadata": {
        "colab": {
          "base_uri": "https://localhost:8080/"
        },
        "id": "YMzu5KChfYkn",
        "outputId": "80da5e29-0fb9-42c4-fd30-ce5ee5b69218"
      },
      "execution_count": 3,
      "outputs": [
        {
          "output_type": "stream",
          "name": "stdout",
          "text": [
            "Downloading data from https://storage.googleapis.com/tensorflow/tf-keras-datasets/mnist.npz\n",
            "11490434/11490434 [==============================] - 0s 0us/step\n"
          ]
        },
        {
          "output_type": "execute_result",
          "data": {
            "text/plain": [
              "((60000, 28, 28), (60000,), (10000, 28, 28), (10000,))"
            ]
          },
          "metadata": {},
          "execution_count": 3
        }
      ]
    },
    {
      "cell_type": "code",
      "source": [
        "# X data의 차원 변경 및 정규화(0 ~ 1)\n",
        "X_train = X_train.reshape(-1, 28, 28, 1) / 255.\n",
        "X_test = X_test.reshape(-1, 28, 28, 1) / 255."
      ],
      "metadata": {
        "id": "HMoy7w6sf6db"
      },
      "execution_count": 4,
      "outputs": []
    },
    {
      "cell_type": "code",
      "source": [
        "# y_data의 one-hot-encoding\n",
        "from tensorflow.keras.utils import to_categorical\n",
        "Y_train = to_categorical(y_train)\n",
        "Y_test = to_categorical(y_test)\n",
        "Y_train.shape, Y_test.shape"
      ],
      "metadata": {
        "colab": {
          "base_uri": "https://localhost:8080/"
        },
        "id": "mztPd593gYa_",
        "outputId": "260de1c9-f640-4ea2-fc2f-d592145299d3"
      },
      "execution_count": 5,
      "outputs": [
        {
          "output_type": "execute_result",
          "data": {
            "text/plain": [
              "((60000, 10), (10000, 10))"
            ]
          },
          "metadata": {},
          "execution_count": 5
        }
      ]
    },
    {
      "cell_type": "markdown",
      "source": [
        "- 모델 정의/설정/학습/평가"
      ],
      "metadata": {
        "id": "ov0Au1wlg5cR"
      }
    },
    {
      "cell_type": "code",
      "source": [
        "from tensorflow.keras.models import Sequential, load_model\n",
        "from tensorflow.keras.layers import Conv2D, Dense, Flatten, MaxPooling2D, Dropout\n",
        "from tensorflow.keras.callbacks import ModelCheckpoint, EarlyStopping"
      ],
      "metadata": {
        "id": "uXnVsk5LgxX5"
      },
      "execution_count": 6,
      "outputs": []
    },
    {
      "cell_type": "code",
      "source": [
        "model = Sequential([\n",
        "    Conv2D(32, kernel_size=(3,3), input_shape=(28,28,1), activation='relu'),\n",
        "    Conv2D(64, (3,3), activation='relu'),\n",
        "    MaxPooling2D(),                     # MaxPooling2D(pool_size=(2,2))\n",
        "    Dropout(0.25),\n",
        "    Flatten(),\n",
        "    Dense(512, activation='relu'),\n",
        "    Dropout(0.5),\n",
        "    Dense(10, activation='softmax')\n",
        "])\n",
        "model.summary()"
      ],
      "metadata": {
        "colab": {
          "base_uri": "https://localhost:8080/"
        },
        "id": "EZUywpl3hWBZ",
        "outputId": "50c4688c-236a-44e8-b442-65ccd317f448"
      },
      "execution_count": 7,
      "outputs": [
        {
          "output_type": "stream",
          "name": "stdout",
          "text": [
            "Model: \"sequential\"\n",
            "_________________________________________________________________\n",
            " Layer (type)                Output Shape              Param #   \n",
            "=================================================================\n",
            " conv2d (Conv2D)             (None, 26, 26, 32)        320       \n",
            "                                                                 \n",
            " conv2d_1 (Conv2D)           (None, 24, 24, 64)        18496     \n",
            "                                                                 \n",
            " max_pooling2d (MaxPooling2  (None, 12, 12, 64)        0         \n",
            " D)                                                              \n",
            "                                                                 \n",
            " dropout (Dropout)           (None, 12, 12, 64)        0         \n",
            "                                                                 \n",
            " flatten (Flatten)           (None, 9216)              0         \n",
            "                                                                 \n",
            " dense (Dense)               (None, 512)               4719104   \n",
            "                                                                 \n",
            " dropout_1 (Dropout)         (None, 512)               0         \n",
            "                                                                 \n",
            " dense_1 (Dense)             (None, 10)                5130      \n",
            "                                                                 \n",
            "=================================================================\n",
            "Total params: 4743050 (18.09 MB)\n",
            "Trainable params: 4743050 (18.09 MB)\n",
            "Non-trainable params: 0 (0.00 Byte)\n",
            "_________________________________________________________________\n"
          ]
        }
      ]
    },
    {
      "cell_type": "code",
      "source": [
        "model.compile('adam', 'categorical_crossentropy', metrics=['accuracy'])"
      ],
      "metadata": {
        "id": "X2I0aFPViOTK"
      },
      "execution_count": 8,
      "outputs": []
    },
    {
      "cell_type": "code",
      "source": [
        "!mkdir models\n",
        "!ls -l"
      ],
      "metadata": {
        "colab": {
          "base_uri": "https://localhost:8080/"
        },
        "id": "X1ts6mOBkMhQ",
        "outputId": "34210d83-2e89-42ac-8aff-e72cf6f1761c"
      },
      "execution_count": 9,
      "outputs": [
        {
          "output_type": "stream",
          "name": "stdout",
          "text": [
            "total 8\n",
            "drwxr-xr-x 2 root root 4096 Nov  8 02:13 models\n",
            "drwxr-xr-x 1 root root 4096 Nov  6 14:20 sample_data\n"
          ]
        }
      ]
    },
    {
      "cell_type": "code",
      "source": [
        "model_path = 'models/best-mnist-v3.h5'\n",
        "mc = ModelCheckpoint(model_path, save_best_only=True, verbose=1)\n",
        "es = EarlyStopping(patience=5)"
      ],
      "metadata": {
        "id": "evLWborBj9CP"
      },
      "execution_count": 10,
      "outputs": []
    },
    {
      "cell_type": "code",
      "source": [
        "hist = model.fit(\n",
        "    X_train, Y_train, validation_split=0.2, epochs=100, batch_size=256,\n",
        "    callbacks=[mc, es]\n",
        ")"
      ],
      "metadata": {
        "colab": {
          "base_uri": "https://localhost:8080/"
        },
        "id": "TVOt0-qSk-CV",
        "outputId": "e450f114-9cbf-4bbe-fb3b-4b65c227b3bd"
      },
      "execution_count": 11,
      "outputs": [
        {
          "output_type": "stream",
          "name": "stdout",
          "text": [
            "Epoch 1/100\n",
            "188/188 [==============================] - ETA: 0s - loss: 0.2401 - accuracy: 0.9258\n",
            "Epoch 1: val_loss improved from inf to 0.06248, saving model to models/best-mnist-v3.h5\n",
            "188/188 [==============================] - 15s 20ms/step - loss: 0.2401 - accuracy: 0.9258 - val_loss: 0.0625 - val_accuracy: 0.9818\n",
            "Epoch 2/100\n",
            "  5/188 [..............................] - ETA: 2s - loss: 0.0728 - accuracy: 0.9773"
          ]
        },
        {
          "output_type": "stream",
          "name": "stderr",
          "text": [
            "/usr/local/lib/python3.10/dist-packages/keras/src/engine/training.py:3079: UserWarning: You are saving your model as an HDF5 file via `model.save()`. This file format is considered legacy. We recommend using instead the native Keras format, e.g. `model.save('my_model.keras')`.\n",
            "  saving_api.save_model(\n"
          ]
        },
        {
          "output_type": "stream",
          "name": "stdout",
          "text": [
            "187/188 [============================>.] - ETA: 0s - loss: 0.0690 - accuracy: 0.9788\n",
            "Epoch 2: val_loss improved from 0.06248 to 0.04616, saving model to models/best-mnist-v3.h5\n",
            "188/188 [==============================] - 3s 18ms/step - loss: 0.0689 - accuracy: 0.9788 - val_loss: 0.0462 - val_accuracy: 0.9859\n",
            "Epoch 3/100\n",
            "188/188 [==============================] - ETA: 0s - loss: 0.0465 - accuracy: 0.9853\n",
            "Epoch 3: val_loss improved from 0.04616 to 0.04012, saving model to models/best-mnist-v3.h5\n",
            "188/188 [==============================] - 3s 18ms/step - loss: 0.0465 - accuracy: 0.9853 - val_loss: 0.0401 - val_accuracy: 0.9882\n",
            "Epoch 4/100\n",
            "187/188 [============================>.] - ETA: 0s - loss: 0.0365 - accuracy: 0.9884\n",
            "Epoch 4: val_loss improved from 0.04012 to 0.03489, saving model to models/best-mnist-v3.h5\n",
            "188/188 [==============================] - 3s 18ms/step - loss: 0.0364 - accuracy: 0.9884 - val_loss: 0.0349 - val_accuracy: 0.9900\n",
            "Epoch 5/100\n",
            "186/188 [============================>.] - ETA: 0s - loss: 0.0268 - accuracy: 0.9917\n",
            "Epoch 5: val_loss improved from 0.03489 to 0.03396, saving model to models/best-mnist-v3.h5\n",
            "188/188 [==============================] - 3s 17ms/step - loss: 0.0267 - accuracy: 0.9917 - val_loss: 0.0340 - val_accuracy: 0.9910\n",
            "Epoch 6/100\n",
            "186/188 [============================>.] - ETA: 0s - loss: 0.0235 - accuracy: 0.9927\n",
            "Epoch 6: val_loss did not improve from 0.03396\n",
            "188/188 [==============================] - 3s 18ms/step - loss: 0.0235 - accuracy: 0.9927 - val_loss: 0.0391 - val_accuracy: 0.9891\n",
            "Epoch 7/100\n",
            "187/188 [============================>.] - ETA: 0s - loss: 0.0204 - accuracy: 0.9932\n",
            "Epoch 7: val_loss did not improve from 0.03396\n",
            "188/188 [==============================] - 3s 17ms/step - loss: 0.0204 - accuracy: 0.9932 - val_loss: 0.0400 - val_accuracy: 0.9902\n",
            "Epoch 8/100\n",
            "185/188 [============================>.] - ETA: 0s - loss: 0.0179 - accuracy: 0.9939\n",
            "Epoch 8: val_loss improved from 0.03396 to 0.03324, saving model to models/best-mnist-v3.h5\n",
            "188/188 [==============================] - 3s 17ms/step - loss: 0.0179 - accuracy: 0.9940 - val_loss: 0.0332 - val_accuracy: 0.9904\n",
            "Epoch 9/100\n",
            "187/188 [============================>.] - ETA: 0s - loss: 0.0158 - accuracy: 0.9950\n",
            "Epoch 9: val_loss did not improve from 0.03324\n",
            "188/188 [==============================] - 3s 17ms/step - loss: 0.0158 - accuracy: 0.9950 - val_loss: 0.0349 - val_accuracy: 0.9901\n",
            "Epoch 10/100\n",
            "185/188 [============================>.] - ETA: 0s - loss: 0.0147 - accuracy: 0.9950\n",
            "Epoch 10: val_loss did not improve from 0.03324\n",
            "188/188 [==============================] - 3s 18ms/step - loss: 0.0147 - accuracy: 0.9949 - val_loss: 0.0345 - val_accuracy: 0.9906\n",
            "Epoch 11/100\n",
            "185/188 [============================>.] - ETA: 0s - loss: 0.0122 - accuracy: 0.9958\n",
            "Epoch 11: val_loss did not improve from 0.03324\n",
            "188/188 [==============================] - 4s 19ms/step - loss: 0.0122 - accuracy: 0.9958 - val_loss: 0.0353 - val_accuracy: 0.9908\n",
            "Epoch 12/100\n",
            "188/188 [==============================] - ETA: 0s - loss: 0.0106 - accuracy: 0.9965\n",
            "Epoch 12: val_loss did not improve from 0.03324\n",
            "188/188 [==============================] - 3s 17ms/step - loss: 0.0106 - accuracy: 0.9965 - val_loss: 0.0377 - val_accuracy: 0.9911\n",
            "Epoch 13/100\n",
            "186/188 [============================>.] - ETA: 0s - loss: 0.0108 - accuracy: 0.9965\n",
            "Epoch 13: val_loss did not improve from 0.03324\n",
            "188/188 [==============================] - 3s 17ms/step - loss: 0.0107 - accuracy: 0.9965 - val_loss: 0.0353 - val_accuracy: 0.9918\n"
          ]
        }
      ]
    },
    {
      "cell_type": "code",
      "source": [
        "best_model = load_model(model_path)\n",
        "best_model.evaluate(X_test, Y_test)"
      ],
      "metadata": {
        "colab": {
          "base_uri": "https://localhost:8080/"
        },
        "id": "4AkOVOj7lZ4l",
        "outputId": "43ceb4fe-e518-4c2b-f531-93611f8af6e9"
      },
      "execution_count": 12,
      "outputs": [
        {
          "output_type": "stream",
          "name": "stdout",
          "text": [
            "313/313 [==============================] - 2s 4ms/step - loss: 0.0273 - accuracy: 0.9913\n"
          ]
        },
        {
          "output_type": "execute_result",
          "data": {
            "text/plain": [
              "[0.027268972247838974, 0.9912999868392944]"
            ]
          },
          "metadata": {},
          "execution_count": 12
        }
      ]
    },
    {
      "cell_type": "markdown",
      "source": [
        "- 학습과정 시각화"
      ],
      "metadata": {
        "id": "PONlDdl4mi_x"
      }
    },
    {
      "cell_type": "code",
      "source": [
        "y_acc = hist.history['accuracy']\n",
        "y_vloss = hist.history['val_loss']\n",
        "xs = np.arange(1, len(y_acc)+1)"
      ],
      "metadata": {
        "id": "u4xuL3ramcXM"
      },
      "execution_count": 13,
      "outputs": []
    },
    {
      "cell_type": "code",
      "source": [
        "plt.figure(figsize=(12,6))\n",
        "plt.plot(xs, y_acc, label='train accuracy')\n",
        "plt.plot(xs, y_vloss, label='validation loss')\n",
        "plt.legend(), plt.grid(), plt.xlabel('epoch')\n",
        "plt.title('MNIST CNN Model v3')\n",
        "plt.show()"
      ],
      "metadata": {
        "colab": {
          "base_uri": "https://localhost:8080/",
          "height": 564
        },
        "id": "vr1VuuAGmqzg",
        "outputId": "2a8e84f9-4b38-4176-fa49-e9c23bd862a6"
      },
      "execution_count": 15,
      "outputs": [
        {
          "output_type": "display_data",
          "data": {
            "text/plain": [
              "<Figure size 1200x600 with 1 Axes>"
            ],
            "image/png": "[encoded data removed]"
          },
          "metadata": {}
        }
      ]
    },
    {
      "cell_type": "code",
      "source": [],
      "metadata": {
        "id": "L3B-gU8smvyP"
      },
      "execution_count": 14,
      "outputs": []
    }
  ]
}