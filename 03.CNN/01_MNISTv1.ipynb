{
  "nbformat": 4,
  "nbformat_minor": 0,
  "metadata": {
    "colab": {
      "provenance": [],
      "gpuType": "T4"
    },
    "kernelspec": {
      "name": "python3",
      "display_name": "Python 3"
    },
    "language_info": {
      "name": "python"
    },
    "accelerator": "GPU"
  },
  "cells": [
    {
      "cell_type": "markdown",
      "source": [
        "## MNIST 손글씨 - CNN v1\n",
        "- 2 x Conv2D layers\n",
        "- 1 FCN layer\n",
        "- 1 Output layer"
      ],
      "metadata": {
        "id": "S9wFLYv3e8yS"
      }
    },
    {
      "cell_type": "code",
      "execution_count": 1,
      "metadata": {
        "id": "Sq8JQVaKe1He"
      },
      "outputs": [],
      "source": [
        "import numpy as np\n",
        "import matplotlib.pyplot as plt\n",
        "import tensorflow as tf\n",
        "seed = 2023\n",
        "np.random.seed(seed)\n",
        "tf.random.set_seed(seed)"
      ]
    },
    {
      "cell_type": "code",
      "source": [
        "tf.__version__"
      ],
      "metadata": {
        "colab": {
          "base_uri": "https://localhost:8080/",
          "height": 35
        },
        "id": "u7TkzlZifiiI",
        "outputId": "8d8c5258-4a16-4f72-e0ed-4b7d9be19b04"
      },
      "execution_count": 2,
      "outputs": [
        {
          "output_type": "execute_result",
          "data": {
            "text/plain": [
              "'2.14.0'"
            ],
            "application/vnd.google.colaboratory.intrinsic+json": {
              "type": "string"
            }
          },
          "metadata": {},
          "execution_count": 2
        }
      ]
    },
    {
      "cell_type": "markdown",
      "source": [
        "- 데이터 전처리"
      ],
      "metadata": {
        "id": "TsaCZWhlfdKA"
      }
    },
    {
      "cell_type": "code",
      "source": [
        "from tensorflow.keras.datasets import mnist\n",
        "(X_train, y_train), (X_test, y_test) = mnist.load_data()\n",
        "X_train.shape, y_train.shape, X_test.shape, y_test.shape"
      ],
      "metadata": {
        "colab": {
          "base_uri": "https://localhost:8080/"
        },
        "id": "YMzu5KChfYkn",
        "outputId": "6bcf9d90-3775-42ee-cba7-caebd8a0aea4"
      },
      "execution_count": 3,
      "outputs": [
        {
          "output_type": "stream",
          "name": "stdout",
          "text": [
            "Downloading data from https://storage.googleapis.com/tensorflow/tf-keras-datasets/mnist.npz\n",
            "11490434/11490434 [==============================] - 0s 0us/step\n"
          ]
        },
        {
          "output_type": "execute_result",
          "data": {
            "text/plain": [
              "((60000, 28, 28), (60000,), (10000, 28, 28), (10000,))"
            ]
          },
          "metadata": {},
          "execution_count": 3
        }
      ]
    },
    {
      "cell_type": "code",
      "source": [
        "# X data의 차원 변경 및 정규화(0 ~ 1)\n",
        "X_train = X_train.reshape(-1, 28, 28, 1) / 255.\n",
        "X_test = X_test.reshape(-1, 28, 28, 1) / 255."
      ],
      "metadata": {
        "id": "HMoy7w6sf6db"
      },
      "execution_count": 4,
      "outputs": []
    },
    {
      "cell_type": "code",
      "source": [
        "# y_data의 one-hot-encoding\n",
        "from tensorflow.keras.utils import to_categorical\n",
        "Y_train = to_categorical(y_train)\n",
        "Y_test = to_categorical(y_test)\n",
        "Y_train.shape, Y_test.shape"
      ],
      "metadata": {
        "colab": {
          "base_uri": "https://localhost:8080/"
        },
        "id": "mztPd593gYa_",
        "outputId": "45572a1a-927a-4927-a23e-4afe7cf88a5d"
      },
      "execution_count": 5,
      "outputs": [
        {
          "output_type": "execute_result",
          "data": {
            "text/plain": [
              "((60000, 10), (10000, 10))"
            ]
          },
          "metadata": {},
          "execution_count": 5
        }
      ]
    },
    {
      "cell_type": "markdown",
      "source": [
        "- 모델 정의/설정/학습/평가"
      ],
      "metadata": {
        "id": "ov0Au1wlg5cR"
      }
    },
    {
      "cell_type": "code",
      "source": [
        "from tensorflow.keras.models import Sequential, load_model\n",
        "from tensorflow.keras.layers import Conv2D, Dense, Flatten\n",
        "from tensorflow.keras.callbacks import ModelCheckpoint, EarlyStopping"
      ],
      "metadata": {
        "id": "uXnVsk5LgxX5"
      },
      "execution_count": 6,
      "outputs": []
    },
    {
      "cell_type": "code",
      "source": [
        "model = Sequential([\n",
        "    Conv2D(32, kernel_size=(3,3), input_shape=(28,28,1), activation='relu'),\n",
        "    Conv2D(64, (3,3), activation='relu'),\n",
        "    Flatten(),\n",
        "    Dense(512, activation='relu'),\n",
        "    Dense(10, activation='softmax')\n",
        "])\n",
        "model.summary()"
      ],
      "metadata": {
        "colab": {
          "base_uri": "https://localhost:8080/"
        },
        "id": "EZUywpl3hWBZ",
        "outputId": "71e54754-3def-4b23-be6b-81b3280b01f6"
      },
      "execution_count": 7,
      "outputs": [
        {
          "output_type": "stream",
          "name": "stdout",
          "text": [
            "Model: \"sequential\"\n",
            "_________________________________________________________________\n",
            " Layer (type)                Output Shape              Param #   \n",
            "=================================================================\n",
            " conv2d (Conv2D)             (None, 26, 26, 32)        320       \n",
            "                                                                 \n",
            " conv2d_1 (Conv2D)           (None, 24, 24, 64)        18496     \n",
            "                                                                 \n",
            " flatten (Flatten)           (None, 36864)             0         \n",
            "                                                                 \n",
            " dense (Dense)               (None, 512)               18874880  \n",
            "                                                                 \n",
            " dense_1 (Dense)             (None, 10)                5130      \n",
            "                                                                 \n",
            "=================================================================\n",
            "Total params: 18898826 (72.09 MB)\n",
            "Trainable params: 18898826 (72.09 MB)\n",
            "Non-trainable params: 0 (0.00 Byte)\n",
            "_________________________________________________________________\n"
          ]
        }
      ]
    },
    {
      "cell_type": "code",
      "source": [
        "model.compile('adam', 'categorical_crossentropy', metrics=['accuracy'])"
      ],
      "metadata": {
        "id": "X2I0aFPViOTK"
      },
      "execution_count": 8,
      "outputs": []
    },
    {
      "cell_type": "code",
      "source": [
        "!mkdir models\n",
        "!ls -l"
      ],
      "metadata": {
        "colab": {
          "base_uri": "https://localhost:8080/"
        },
        "id": "X1ts6mOBkMhQ",
        "outputId": "aaf1f21c-54b6-4294-cda5-37b31e245279"
      },
      "execution_count": 9,
      "outputs": [
        {
          "output_type": "stream",
          "name": "stdout",
          "text": [
            "total 8\n",
            "drwxr-xr-x 2 root root 4096 Nov  8 01:41 models\n",
            "drwxr-xr-x 1 root root 4096 Nov  6 14:20 sample_data\n"
          ]
        }
      ]
    },
    {
      "cell_type": "code",
      "source": [
        "model_path = 'models/best-mnist-v1.h5'\n",
        "mc = ModelCheckpoint(model_path, save_best_only=True, verbose=1)\n",
        "es = EarlyStopping(patience=10)"
      ],
      "metadata": {
        "id": "evLWborBj9CP"
      },
      "execution_count": 10,
      "outputs": []
    },
    {
      "cell_type": "code",
      "source": [
        "hist = model.fit(\n",
        "    X_train, Y_train, validation_split=0.2, epochs=100, batch_size=256,\n",
        "    callbacks=[mc, es]\n",
        ")"
      ],
      "metadata": {
        "colab": {
          "base_uri": "https://localhost:8080/"
        },
        "id": "TVOt0-qSk-CV",
        "outputId": "b709fe53-e550-443b-a5e4-a669243c54e0"
      },
      "execution_count": 11,
      "outputs": [
        {
          "output_type": "stream",
          "name": "stdout",
          "text": [
            "Epoch 1/100\n",
            "188/188 [==============================] - ETA: 0s - loss: 0.1671 - accuracy: 0.9478\n",
            "Epoch 1: val_loss improved from inf to 0.05850, saving model to models/best-mnist-v1.h5\n"
          ]
        },
        {
          "output_type": "stream",
          "name": "stderr",
          "text": [
            "/usr/local/lib/python3.10/dist-packages/keras/src/engine/training.py:3079: UserWarning: You are saving your model as an HDF5 file via `model.save()`. This file format is considered legacy. We recommend using instead the native Keras format, e.g. `model.save('my_model.keras')`.\n",
            "  saving_api.save_model(\n"
          ]
        },
        {
          "output_type": "stream",
          "name": "stdout",
          "text": [
            "\b\b\b\b\b\b\b\b\b\b\b\b\b\b\b\b\b\b\b\b\b\b\b\b\b\b\b\b\b\b\b\b\b\b\b\b\b\b\b\b\b\b\b\b\b\b\b\b\b\b\b\b\b\b\b\b\b\b\b\b\b\b\b\b\b\b\b\b\b\b\b\b\b\b\b\b\b\b\b\b\b\b\b\b\r188/188 [==============================] - 15s 26ms/step - loss: 0.1671 - accuracy: 0.9478 - val_loss: 0.0585 - val_accuracy: 0.9834\n",
            "Epoch 2/100\n",
            "187/188 [============================>.] - ETA: 0s - loss: 0.0411 - accuracy: 0.9872\n",
            "Epoch 2: val_loss improved from 0.05850 to 0.04692, saving model to models/best-mnist-v1.h5\n",
            "188/188 [==============================] - 5s 24ms/step - loss: 0.0410 - accuracy: 0.9872 - val_loss: 0.0469 - val_accuracy: 0.9864\n",
            "Epoch 3/100\n",
            "188/188 [==============================] - ETA: 0s - loss: 0.0192 - accuracy: 0.9940\n",
            "Epoch 3: val_loss did not improve from 0.04692\n",
            "188/188 [==============================] - 4s 22ms/step - loss: 0.0192 - accuracy: 0.9940 - val_loss: 0.0540 - val_accuracy: 0.9853\n",
            "Epoch 4/100\n",
            "187/188 [============================>.] - ETA: 0s - loss: 0.0120 - accuracy: 0.9961\n",
            "Epoch 4: val_loss did not improve from 0.04692\n",
            "188/188 [==============================] - 4s 21ms/step - loss: 0.0119 - accuracy: 0.9961 - val_loss: 0.0568 - val_accuracy: 0.9850\n",
            "Epoch 5/100\n",
            "187/188 [============================>.] - ETA: 0s - loss: 0.0074 - accuracy: 0.9976\n",
            "Epoch 5: val_loss did not improve from 0.04692\n",
            "188/188 [==============================] - 4s 21ms/step - loss: 0.0074 - accuracy: 0.9976 - val_loss: 0.0547 - val_accuracy: 0.9858\n",
            "Epoch 6/100\n",
            "187/188 [============================>.] - ETA: 0s - loss: 0.0056 - accuracy: 0.9982\n",
            "Epoch 6: val_loss did not improve from 0.04692\n",
            "188/188 [==============================] - 4s 21ms/step - loss: 0.0056 - accuracy: 0.9982 - val_loss: 0.0560 - val_accuracy: 0.9883\n",
            "Epoch 7/100\n",
            "187/188 [============================>.] - ETA: 0s - loss: 0.0019 - accuracy: 0.9995\n",
            "Epoch 7: val_loss did not improve from 0.04692\n",
            "188/188 [==============================] - 4s 21ms/step - loss: 0.0020 - accuracy: 0.9995 - val_loss: 0.0680 - val_accuracy: 0.9856\n",
            "Epoch 8/100\n",
            "186/188 [============================>.] - ETA: 0s - loss: 0.0044 - accuracy: 0.9984\n",
            "Epoch 8: val_loss did not improve from 0.04692\n",
            "188/188 [==============================] - 4s 21ms/step - loss: 0.0046 - accuracy: 0.9984 - val_loss: 0.0897 - val_accuracy: 0.9797\n",
            "Epoch 9/100\n",
            "187/188 [============================>.] - ETA: 0s - loss: 0.0076 - accuracy: 0.9976\n",
            "Epoch 9: val_loss did not improve from 0.04692\n",
            "188/188 [==============================] - 4s 21ms/step - loss: 0.0076 - accuracy: 0.9976 - val_loss: 0.0585 - val_accuracy: 0.9881\n",
            "Epoch 10/100\n",
            "187/188 [============================>.] - ETA: 0s - loss: 0.0015 - accuracy: 0.9996\n",
            "Epoch 10: val_loss did not improve from 0.04692\n",
            "188/188 [==============================] - 4s 21ms/step - loss: 0.0015 - accuracy: 0.9996 - val_loss: 0.0620 - val_accuracy: 0.9890\n",
            "Epoch 11/100\n",
            "187/188 [============================>.] - ETA: 0s - loss: 0.0021 - accuracy: 0.9995\n",
            "Epoch 11: val_loss did not improve from 0.04692\n",
            "188/188 [==============================] - 4s 22ms/step - loss: 0.0021 - accuracy: 0.9995 - val_loss: 0.0581 - val_accuracy: 0.9884\n",
            "Epoch 12/100\n",
            "186/188 [============================>.] - ETA: 0s - loss: 0.0033 - accuracy: 0.9988\n",
            "Epoch 12: val_loss did not improve from 0.04692\n",
            "188/188 [==============================] - 4s 22ms/step - loss: 0.0033 - accuracy: 0.9988 - val_loss: 0.0696 - val_accuracy: 0.9873\n"
          ]
        }
      ]
    },
    {
      "cell_type": "code",
      "source": [
        "best_model = load_model(model_path)\n",
        "best_model.evaluate(X_test, Y_test)"
      ],
      "metadata": {
        "colab": {
          "base_uri": "https://localhost:8080/"
        },
        "id": "4AkOVOj7lZ4l",
        "outputId": "9e4ec6ac-9c16-481a-ac5e-4dca54c593a2"
      },
      "execution_count": 12,
      "outputs": [
        {
          "output_type": "stream",
          "name": "stdout",
          "text": [
            "313/313 [==============================] - 1s 4ms/step - loss: 0.0373 - accuracy: 0.9876\n"
          ]
        },
        {
          "output_type": "execute_result",
          "data": {
            "text/plain": [
              "[0.03727451711893082, 0.9876000285148621]"
            ]
          },
          "metadata": {},
          "execution_count": 12
        }
      ]
    },
    {
      "cell_type": "markdown",
      "source": [
        "- 학습과정 시각화"
      ],
      "metadata": {
        "id": "PONlDdl4mi_x"
      }
    },
    {
      "cell_type": "code",
      "source": [
        "y_acc = hist.history['accuracy']\n",
        "y_vloss = hist.history['val_loss']\n",
        "xs = np.arange(1, len(y_acc)+1)"
      ],
      "metadata": {
        "id": "u4xuL3ramcXM"
      },
      "execution_count": 13,
      "outputs": []
    },
    {
      "cell_type": "code",
      "source": [
        "plt.figure(figsize=(12,6))\n",
        "plt.plot(xs, y_acc, label='train accuracy')\n",
        "plt.plot(xs, y_vloss, label='validation loss')\n",
        "plt.legend(), plt.grid(), plt.xlabel('epoch')\n",
        "plt.title('MNIST CNN Model v1')\n",
        "plt.show()"
      ],
      "metadata": {
        "colab": {
          "base_uri": "https://localhost:8080/",
          "height": 564
        },
        "id": "vr1VuuAGmqzg",
        "outputId": "3782ca57-1235-4555-f212-6b4cb76568b1"
      },
      "execution_count": 15,
      "outputs": [
        {
          "output_type": "display_data",
          "data": {
            "text/plain": [
              "<Figure size 1200x600 with 1 Axes>"
            ],
            "image/png": "[encoded data removed]"
          },
          "metadata": {}
        }
      ]
    },
    {
      "cell_type": "code",
      "source": [],
      "metadata": {
        "id": "L3B-gU8smvyP"
      },
      "execution_count": null,
      "outputs": []
    }
  ]
}