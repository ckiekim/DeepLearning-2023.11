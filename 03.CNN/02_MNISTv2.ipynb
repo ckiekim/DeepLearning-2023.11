{
  "nbformat": 4,
  "nbformat_minor": 0,
  "metadata": {
    "colab": {
      "provenance": [],
      "gpuType": "T4"
    },
    "kernelspec": {
      "name": "python3",
      "display_name": "Python 3"
    },
    "language_info": {
      "name": "python"
    },
    "accelerator": "GPU"
  },
  "cells": [
    {
      "cell_type": "markdown",
      "source": [
        "## MNIST 손글씨 - CNN v2\n",
        "- 2 x Conv2D layers\n",
        "- 1 MaxPooling2D layer\n",
        "- 1 FCN layer\n",
        "- 1 Output layer"
      ],
      "metadata": {
        "id": "S9wFLYv3e8yS"
      }
    },
    {
      "cell_type": "code",
      "execution_count": 1,
      "metadata": {
        "id": "Sq8JQVaKe1He"
      },
      "outputs": [],
      "source": [
        "import numpy as np\n",
        "import matplotlib.pyplot as plt\n",
        "import tensorflow as tf\n",
        "seed = 2023\n",
        "np.random.seed(seed)\n",
        "tf.random.set_seed(seed)"
      ]
    },
    {
      "cell_type": "code",
      "source": [
        "tf.__version__"
      ],
      "metadata": {
        "colab": {
          "base_uri": "https://localhost:8080/",
          "height": 35
        },
        "id": "u7TkzlZifiiI",
        "outputId": "0e9bc5bd-0f2a-4abc-e71b-3a7c343e130b"
      },
      "execution_count": 2,
      "outputs": [
        {
          "output_type": "execute_result",
          "data": {
            "text/plain": [
              "'2.14.0'"
            ],
            "application/vnd.google.colaboratory.intrinsic+json": {
              "type": "string"
            }
          },
          "metadata": {},
          "execution_count": 2
        }
      ]
    },
    {
      "cell_type": "markdown",
      "source": [
        "- 데이터 전처리"
      ],
      "metadata": {
        "id": "TsaCZWhlfdKA"
      }
    },
    {
      "cell_type": "code",
      "source": [
        "from tensorflow.keras.datasets import mnist\n",
        "(X_train, y_train), (X_test, y_test) = mnist.load_data()\n",
        "X_train.shape, y_train.shape, X_test.shape, y_test.shape"
      ],
      "metadata": {
        "colab": {
          "base_uri": "https://localhost:8080/"
        },
        "id": "YMzu5KChfYkn",
        "outputId": "f548b179-35ea-46c7-dcdf-92d7c77cf7e4"
      },
      "execution_count": 3,
      "outputs": [
        {
          "output_type": "stream",
          "name": "stdout",
          "text": [
            "Downloading data from https://storage.googleapis.com/tensorflow/tf-keras-datasets/mnist.npz\n",
            "11490434/11490434 [==============================] - 0s 0us/step\n"
          ]
        },
        {
          "output_type": "execute_result",
          "data": {
            "text/plain": [
              "((60000, 28, 28), (60000,), (10000, 28, 28), (10000,))"
            ]
          },
          "metadata": {},
          "execution_count": 3
        }
      ]
    },
    {
      "cell_type": "code",
      "source": [
        "# X data의 차원 변경 및 정규화(0 ~ 1)\n",
        "X_train = X_train.reshape(-1, 28, 28, 1) / 255.\n",
        "X_test = X_test.reshape(-1, 28, 28, 1) / 255."
      ],
      "metadata": {
        "id": "HMoy7w6sf6db"
      },
      "execution_count": 4,
      "outputs": []
    },
    {
      "cell_type": "code",
      "source": [
        "# y_data의 one-hot-encoding\n",
        "from tensorflow.keras.utils import to_categorical\n",
        "Y_train = to_categorical(y_train)\n",
        "Y_test = to_categorical(y_test)\n",
        "Y_train.shape, Y_test.shape"
      ],
      "metadata": {
        "colab": {
          "base_uri": "https://localhost:8080/"
        },
        "id": "mztPd593gYa_",
        "outputId": "e704a7c7-6298-41b4-97ec-8ca2e7e134ec"
      },
      "execution_count": 5,
      "outputs": [
        {
          "output_type": "execute_result",
          "data": {
            "text/plain": [
              "((60000, 10), (10000, 10))"
            ]
          },
          "metadata": {},
          "execution_count": 5
        }
      ]
    },
    {
      "cell_type": "markdown",
      "source": [
        "- 모델 정의/설정/학습/평가"
      ],
      "metadata": {
        "id": "ov0Au1wlg5cR"
      }
    },
    {
      "cell_type": "code",
      "source": [
        "from tensorflow.keras.models import Sequential, load_model\n",
        "from tensorflow.keras.layers import Conv2D, Dense, Flatten, MaxPooling2D\n",
        "from tensorflow.keras.callbacks import ModelCheckpoint, EarlyStopping"
      ],
      "metadata": {
        "id": "uXnVsk5LgxX5"
      },
      "execution_count": 6,
      "outputs": []
    },
    {
      "cell_type": "code",
      "source": [
        "model = Sequential([\n",
        "    Conv2D(32, kernel_size=(3,3), input_shape=(28,28,1), activation='relu'),\n",
        "    Conv2D(64, (3,3), activation='relu'),\n",
        "    MaxPooling2D(),                     # MaxPooling2D(pool_size=(2,2))\n",
        "    Flatten(),\n",
        "    Dense(512, activation='relu'),\n",
        "    Dense(10, activation='softmax')\n",
        "])\n",
        "model.summary()"
      ],
      "metadata": {
        "colab": {
          "base_uri": "https://localhost:8080/"
        },
        "id": "EZUywpl3hWBZ",
        "outputId": "bb5f6cbd-db2b-4c0d-d560-27ccc81d358f"
      },
      "execution_count": 7,
      "outputs": [
        {
          "output_type": "stream",
          "name": "stdout",
          "text": [
            "Model: \"sequential\"\n",
            "_________________________________________________________________\n",
            " Layer (type)                Output Shape              Param #   \n",
            "=================================================================\n",
            " conv2d (Conv2D)             (None, 26, 26, 32)        320       \n",
            "                                                                 \n",
            " conv2d_1 (Conv2D)           (None, 24, 24, 64)        18496     \n",
            "                                                                 \n",
            " max_pooling2d (MaxPooling2  (None, 12, 12, 64)        0         \n",
            " D)                                                              \n",
            "                                                                 \n",
            " flatten (Flatten)           (None, 9216)              0         \n",
            "                                                                 \n",
            " dense (Dense)               (None, 512)               4719104   \n",
            "                                                                 \n",
            " dense_1 (Dense)             (None, 10)                5130      \n",
            "                                                                 \n",
            "=================================================================\n",
            "Total params: 4743050 (18.09 MB)\n",
            "Trainable params: 4743050 (18.09 MB)\n",
            "Non-trainable params: 0 (0.00 Byte)\n",
            "_________________________________________________________________\n"
          ]
        }
      ]
    },
    {
      "cell_type": "code",
      "source": [
        "model.compile('adam', 'categorical_crossentropy', metrics=['accuracy'])"
      ],
      "metadata": {
        "id": "X2I0aFPViOTK"
      },
      "execution_count": 8,
      "outputs": []
    },
    {
      "cell_type": "code",
      "source": [
        "!mkdir models\n",
        "!ls -l"
      ],
      "metadata": {
        "colab": {
          "base_uri": "https://localhost:8080/"
        },
        "id": "X1ts6mOBkMhQ",
        "outputId": "9baee643-7a75-42b2-b2f1-4e120953a143"
      },
      "execution_count": 9,
      "outputs": [
        {
          "output_type": "stream",
          "name": "stdout",
          "text": [
            "total 8\n",
            "drwxr-xr-x 2 root root 4096 Nov  8 02:05 models\n",
            "drwxr-xr-x 1 root root 4096 Nov  6 14:20 sample_data\n"
          ]
        }
      ]
    },
    {
      "cell_type": "code",
      "source": [
        "model_path = 'models/best-mnist-v2.h5'\n",
        "mc = ModelCheckpoint(model_path, save_best_only=True, verbose=1)\n",
        "es = EarlyStopping(patience=5)"
      ],
      "metadata": {
        "id": "evLWborBj9CP"
      },
      "execution_count": 10,
      "outputs": []
    },
    {
      "cell_type": "code",
      "source": [
        "hist = model.fit(\n",
        "    X_train, Y_train, validation_split=0.2, epochs=100, batch_size=256,\n",
        "    callbacks=[mc, es]\n",
        ")"
      ],
      "metadata": {
        "colab": {
          "base_uri": "https://localhost:8080/"
        },
        "id": "TVOt0-qSk-CV",
        "outputId": "5f7fe517-b960-47b1-8785-807d7c65e18c"
      },
      "execution_count": 11,
      "outputs": [
        {
          "output_type": "stream",
          "name": "stdout",
          "text": [
            "Epoch 1/100\n",
            "188/188 [==============================] - ETA: 0s - loss: 0.2074 - accuracy: 0.9382\n",
            "Epoch 1: val_loss improved from inf to 0.06316, saving model to models/best-mnist-v2.h5\n",
            "188/188 [==============================] - 15s 20ms/step - loss: 0.2074 - accuracy: 0.9382 - val_loss: 0.0632 - val_accuracy: 0.9823\n",
            "Epoch 2/100\n",
            "  5/188 [..............................] - ETA: 2s - loss: 0.0552 - accuracy: 0.9812"
          ]
        },
        {
          "output_type": "stream",
          "name": "stderr",
          "text": [
            "/usr/local/lib/python3.10/dist-packages/keras/src/engine/training.py:3079: UserWarning: You are saving your model as an HDF5 file via `model.save()`. This file format is considered legacy. We recommend using instead the native Keras format, e.g. `model.save('my_model.keras')`.\n",
            "  saving_api.save_model(\n"
          ]
        },
        {
          "output_type": "stream",
          "name": "stdout",
          "text": [
            "185/188 [============================>.] - ETA: 0s - loss: 0.0513 - accuracy: 0.9845\n",
            "Epoch 2: val_loss improved from 0.06316 to 0.04904, saving model to models/best-mnist-v2.h5\n",
            "188/188 [==============================] - 3s 15ms/step - loss: 0.0511 - accuracy: 0.9845 - val_loss: 0.0490 - val_accuracy: 0.9855\n",
            "Epoch 3/100\n",
            "186/188 [============================>.] - ETA: 0s - loss: 0.0290 - accuracy: 0.9911\n",
            "Epoch 3: val_loss improved from 0.04904 to 0.04744, saving model to models/best-mnist-v2.h5\n",
            "188/188 [==============================] - 3s 16ms/step - loss: 0.0289 - accuracy: 0.9911 - val_loss: 0.0474 - val_accuracy: 0.9856\n",
            "Epoch 4/100\n",
            "185/188 [============================>.] - ETA: 0s - loss: 0.0195 - accuracy: 0.9935\n",
            "Epoch 4: val_loss improved from 0.04744 to 0.04510, saving model to models/best-mnist-v2.h5\n",
            "188/188 [==============================] - 3s 15ms/step - loss: 0.0194 - accuracy: 0.9935 - val_loss: 0.0451 - val_accuracy: 0.9872\n",
            "Epoch 5/100\n",
            "185/188 [============================>.] - ETA: 0s - loss: 0.0120 - accuracy: 0.9961\n",
            "Epoch 5: val_loss did not improve from 0.04510\n",
            "188/188 [==============================] - 3s 15ms/step - loss: 0.0120 - accuracy: 0.9961 - val_loss: 0.0487 - val_accuracy: 0.9865\n",
            "Epoch 6/100\n",
            "188/188 [==============================] - ETA: 0s - loss: 0.0080 - accuracy: 0.9975\n",
            "Epoch 6: val_loss did not improve from 0.04510\n",
            "188/188 [==============================] - 3s 14ms/step - loss: 0.0080 - accuracy: 0.9975 - val_loss: 0.0461 - val_accuracy: 0.9875\n",
            "Epoch 7/100\n",
            "184/188 [============================>.] - ETA: 0s - loss: 0.0071 - accuracy: 0.9974\n",
            "Epoch 7: val_loss did not improve from 0.04510\n",
            "188/188 [==============================] - 3s 14ms/step - loss: 0.0071 - accuracy: 0.9974 - val_loss: 0.0505 - val_accuracy: 0.9878\n",
            "Epoch 8/100\n",
            "188/188 [==============================] - ETA: 0s - loss: 0.0044 - accuracy: 0.9986\n",
            "Epoch 8: val_loss did not improve from 0.04510\n",
            "188/188 [==============================] - 3s 14ms/step - loss: 0.0044 - accuracy: 0.9986 - val_loss: 0.0510 - val_accuracy: 0.9887\n",
            "Epoch 9/100\n",
            "184/188 [============================>.] - ETA: 0s - loss: 0.0051 - accuracy: 0.9983\n",
            "Epoch 9: val_loss did not improve from 0.04510\n",
            "188/188 [==============================] - 3s 14ms/step - loss: 0.0052 - accuracy: 0.9983 - val_loss: 0.0595 - val_accuracy: 0.9859\n"
          ]
        }
      ]
    },
    {
      "cell_type": "code",
      "source": [
        "best_model = load_model(model_path)\n",
        "best_model.evaluate(X_test, Y_test)"
      ],
      "metadata": {
        "colab": {
          "base_uri": "https://localhost:8080/"
        },
        "id": "4AkOVOj7lZ4l",
        "outputId": "69c2d775-f14e-44b3-8797-609a0fa82508"
      },
      "execution_count": 12,
      "outputs": [
        {
          "output_type": "stream",
          "name": "stdout",
          "text": [
            "313/313 [==============================] - 1s 3ms/step - loss: 0.0380 - accuracy: 0.9874\n"
          ]
        },
        {
          "output_type": "execute_result",
          "data": {
            "text/plain": [
              "[0.037987854331731796, 0.9873999953269958]"
            ]
          },
          "metadata": {},
          "execution_count": 12
        }
      ]
    },
    {
      "cell_type": "markdown",
      "source": [
        "- 학습과정 시각화"
      ],
      "metadata": {
        "id": "PONlDdl4mi_x"
      }
    },
    {
      "cell_type": "code",
      "source": [
        "y_acc = hist.history['accuracy']\n",
        "y_vloss = hist.history['val_loss']\n",
        "xs = np.arange(1, len(y_acc)+1)"
      ],
      "metadata": {
        "id": "u4xuL3ramcXM"
      },
      "execution_count": 13,
      "outputs": []
    },
    {
      "cell_type": "code",
      "source": [
        "plt.figure(figsize=(12,6))\n",
        "plt.plot(xs, y_acc, label='train accuracy')\n",
        "plt.plot(xs, y_vloss, label='validation loss')\n",
        "plt.legend(), plt.grid(), plt.xlabel('epoch')\n",
        "plt.title('MNIST CNN Model v1')\n",
        "plt.show()"
      ],
      "metadata": {
        "colab": {
          "base_uri": "https://localhost:8080/",
          "height": 564
        },
        "id": "vr1VuuAGmqzg",
        "outputId": "711541d8-f4f5-4132-c4a2-63dfb5b71b09"
      },
      "execution_count": 14,
      "outputs": [
        {
          "output_type": "display_data",
          "data": {
            "text/plain": [
              "<Figure size 1200x600 with 1 Axes>"
            ],
            "image/png": "[encoded data removed]"
          },
          "metadata": {}
        }
      ]
    },
    {
      "cell_type": "code",
      "source": [],
      "metadata": {
        "id": "L3B-gU8smvyP"
      },
      "execution_count": 14,
      "outputs": []
    }
  ]
}