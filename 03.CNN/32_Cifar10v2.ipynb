{
  "cells": [
    {
      "cell_type": "markdown",
      "metadata": {
        "id": "AL32ZFOw5_-D"
      },
      "source": [
        "## Cifar-10 이미지 분류 - v2\n",
        "- 데이터 부풀리기 사용"
      ]
    },
    {
      "cell_type": "code",
      "execution_count": 1,
      "metadata": {
        "id": "U4raG--u58HC"
      },
      "outputs": [],
      "source": [
        "import numpy as np\n",
        "import matplotlib.pyplot as plt\n",
        "import tensorflow as tf\n",
        "seed = 2023\n",
        "np.random.seed(seed)\n",
        "tf.random.set_seed(seed)"
      ]
    },
    {
      "cell_type": "markdown",
      "metadata": {
        "id": "qUYH3IMe6Xvl"
      },
      "source": [
        "- 데이터 전처리"
      ]
    },
    {
      "cell_type": "code",
      "execution_count": 2,
      "metadata": {
        "colab": {
          "base_uri": "https://localhost:8080/"
        },
        "id": "H6lGyPBm6Tvv",
        "outputId": "d72623cb-3591-4636-de5c-20e8ccfc042f"
      },
      "outputs": [
        {
          "name": "stdout",
          "output_type": "stream",
          "text": [
            "Downloading data from https://www.cs.toronto.edu/~kriz/cifar-10-python.tar.gz\n",
            "170498071/170498071 [==============================] - 14s 0us/step\n"
          ]
        }
      ],
      "source": [
        "from tensorflow.keras.datasets import cifar10\n",
        "(X_train, y_train), (X_test, y_test) = cifar10.load_data()"
      ]
    },
    {
      "cell_type": "code",
      "execution_count": 3,
      "metadata": {
        "id": "veuPqrNf6c2b"
      },
      "outputs": [],
      "source": [
        "# X data: scaling\n",
        "X_train = X_train / 255.\n",
        "X_test = X_test / 255."
      ]
    },
    {
      "cell_type": "code",
      "execution_count": 4,
      "metadata": {
        "id": "qsit4sTU67Lk"
      },
      "outputs": [],
      "source": [
        "# y data: one hot encoding\n",
        "from tensorflow.keras.utils import to_categorical\n",
        "Y_train = to_categorical(y_train)\n",
        "Y_test = to_categorical(y_test)"
      ]
    },
    {
      "cell_type": "markdown",
      "metadata": {
        "id": "9_4mIkY57ANg"
      },
      "source": [
        "- 모델 정의/설정/학습/평가"
      ]
    },
    {
      "cell_type": "code",
      "execution_count": 5,
      "metadata": {
        "id": "oK8pw1FB6-W_"
      },
      "outputs": [],
      "source": [
        "from tensorflow.keras.models import Sequential, load_model\n",
        "from tensorflow.keras.layers import Dense, Conv2D, MaxPooling2D, Flatten, Dropout\n",
        "from tensorflow.keras.callbacks import ModelCheckpoint, EarlyStopping"
      ]
    },
    {
      "cell_type": "code",
      "execution_count": 6,
      "metadata": {
        "id": "tHWF6TF77H87"
      },
      "outputs": [],
      "source": [
        "model = Sequential([\n",
        "    Conv2D(32, (3,3), input_shape=X_train.shape[1:], padding='same', activation='relu'),\n",
        "    Conv2D(32, (3,3), activation='relu'),\n",
        "    MaxPooling2D(),\n",
        "    Dropout(0.25),\n",
        "    Conv2D(64, (3,3), padding='same', activation='relu'),\n",
        "    Conv2D(64, (3,3), activation='relu'),\n",
        "    MaxPooling2D(),\n",
        "    Dropout(0.25),\n",
        "    Flatten(),\n",
        "    Dense(512, activation='relu'),\n",
        "    Dropout(0.5),\n",
        "    Dense(10, activation='softmax')\n",
        "])"
      ]
    },
    {
      "cell_type": "code",
      "execution_count": 7,
      "metadata": {
        "id": "ODbT4fE27NEO"
      },
      "outputs": [],
      "source": [
        "model.compile('adam', 'categorical_crossentropy', ['accuracy'])\n",
        "\n",
        "model_path = 'best-cifar10-v2.h5'\n",
        "mc = ModelCheckpoint(model_path, save_best_only=True, verbose=1)\n",
        "es = EarlyStopping(patience=5)"
      ]
    },
    {
      "cell_type": "markdown",
      "metadata": {
        "id": "M00yTV0Q7X1q"
      },
      "source": [
        "- 데이터 부풀리기"
      ]
    },
    {
      "cell_type": "code",
      "execution_count": 8,
      "metadata": {
        "id": "AdTa5iCZ7Ula"
      },
      "outputs": [],
      "source": [
        "from sklearn.model_selection import train_test_split\n",
        "X_train, X_valid, Y_train, Y_valid = train_test_split(\n",
        "    X_train, Y_train, stratify=Y_train, test_size=0.2, random_state=seed\n",
        ")"
      ]
    },
    {
      "cell_type": "code",
      "execution_count": 9,
      "metadata": {
        "id": "XmthMa16731u"
      },
      "outputs": [],
      "source": [
        "from tensorflow.keras.preprocessing.image import ImageDataGenerator\n",
        "\n",
        "train_datagen = ImageDataGenerator(\n",
        "    rotation_range=10,          # randomly rotate images in the range (deg 0 to 10)\n",
        "    width_shift_range=0.1,      # randomly shift images horizontally\n",
        "    height_shift_range=0.1,     # randomly shift images vertically\n",
        "    shear_range=0.1,  \t        # 도형의 기울기\n",
        "    zoom_range=[0.8,1.2],  \t\t# 0.8 ~ 1.2 배 크기로 임의로 확대/축소\n",
        "    horizontal_flip=True,  \t    # randomly flip images (수평으로)\n",
        "    vertical_flip=False,  \t    # randomly flip images (수직으로)\n",
        "    fill_mode='nearest'  \t    # set mode for filling points outside the input boundaries\n",
        ")"
      ]
    },
    {
      "cell_type": "code",
      "execution_count": 10,
      "metadata": {
        "id": "s9dmY0L58aDS"
      },
      "outputs": [],
      "source": [
        "train_datagen.fit(X_train)"
      ]
    },
    {
      "cell_type": "markdown",
      "metadata": {
        "id": "WcY0jvLa8pR8"
      },
      "source": [
        "- 데이터 부풀리기를 한 결과로 학습"
      ]
    },
    {
      "cell_type": "code",
      "execution_count": 11,
      "metadata": {
        "colab": {
          "base_uri": "https://localhost:8080/"
        },
        "id": "ONw4kDGL8mov",
        "outputId": "d3f0f95f-6b95-4e50-cce0-b0992092f1fc"
      },
      "outputs": [
        {
          "name": "stdout",
          "output_type": "stream",
          "text": [
            "\n",
            "Epoch 1: val_loss improved from inf to 1.34038, saving model to best-cifar10-v2.h5\n"
          ]
        },
        {
          "name": "stderr",
          "output_type": "stream",
          "text": [
            "/usr/local/lib/python3.10/dist-packages/keras/src/engine/training.py:3079: UserWarning: You are saving your model as an HDF5 file via `model.save()`. This file format is considered legacy. We recommend using instead the native Keras format, e.g. `model.save('my_model.keras')`.\n",
            "  saving_api.save_model(\n"
          ]
        },
        {
          "name": "stdout",
          "output_type": "stream",
          "text": [
            "\n",
            "Epoch 2: val_loss improved from 1.34038 to 1.17939, saving model to best-cifar10-v2.h5\n",
            "\n",
            "Epoch 3: val_loss improved from 1.17939 to 1.04652, saving model to best-cifar10-v2.h5\n",
            "\n",
            "Epoch 4: val_loss improved from 1.04652 to 0.97490, saving model to best-cifar10-v2.h5\n",
            "\n",
            "Epoch 5: val_loss did not improve from 0.97490\n",
            "\n",
            "Epoch 6: val_loss improved from 0.97490 to 0.84660, saving model to best-cifar10-v2.h5\n",
            "\n",
            "Epoch 7: val_loss did not improve from 0.84660\n",
            "\n",
            "Epoch 8: val_loss improved from 0.84660 to 0.79801, saving model to best-cifar10-v2.h5\n",
            "\n",
            "Epoch 9: val_loss improved from 0.79801 to 0.78381, saving model to best-cifar10-v2.h5\n",
            "\n",
            "Epoch 10: val_loss improved from 0.78381 to 0.74606, saving model to best-cifar10-v2.h5\n",
            "\n",
            "Epoch 11: val_loss did not improve from 0.74606\n",
            "\n",
            "Epoch 12: val_loss did not improve from 0.74606\n",
            "\n",
            "Epoch 13: val_loss did not improve from 0.74606\n",
            "\n",
            "Epoch 14: val_loss did not improve from 0.74606\n",
            "\n",
            "Epoch 15: val_loss did not improve from 0.74606\n"
          ]
        }
      ],
      "source": [
        "hist = model.fit(\n",
        "    train_datagen.flow(X_train, Y_train, batch_size=32),\n",
        "    validation_data=(X_valid, Y_valid),\n",
        "    epochs=100, verbose=0,\n",
        "    callbacks=[mc, es]\n",
        ")"
      ]
    },
    {
      "cell_type": "code",
      "execution_count": 12,
      "metadata": {
        "colab": {
          "base_uri": "https://localhost:8080/"
        },
        "id": "sqtcWz3k9LwF",
        "outputId": "81fcc0d8-5a10-4aaf-98e3-87c921d963ed"
      },
      "outputs": [
        {
          "name": "stdout",
          "output_type": "stream",
          "text": [
            "313/313 [==============================] - 1s 4ms/step - loss: 0.7573 - accuracy: 0.7411\n"
          ]
        },
        {
          "data": {
            "text/plain": [
              "[0.7572814226150513, 0.741100013256073]"
            ]
          },
          "execution_count": 12,
          "metadata": {},
          "output_type": "execute_result"
        }
      ],
      "source": [
        "best_model = load_model(model_path)\n",
        "best_model.evaluate(X_test, Y_test)"
      ]
    }
  ],
  "metadata": {
    "accelerator": "GPU",
    "colab": {
      "gpuType": "T4",
      "provenance": []
    },
    "kernelspec": {
      "display_name": "Python 3",
      "name": "python3"
    },
    "language_info": {
      "name": "python"
    }
  },
  "nbformat": 4,
  "nbformat_minor": 0
}
