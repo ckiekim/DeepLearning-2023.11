{
 "cells": [
  {
   "cell_type": "markdown",
   "metadata": {},
   "source": [
    "## ETRI 공공 인공지능 - 법률 QA API"
   ]
  },
  {
   "cell_type": "code",
   "execution_count": 1,
   "metadata": {},
   "outputs": [],
   "source": [
    "import requests, json\n",
    "\n",
    "openApiURL = \"http://aiopen.etri.re.kr:8000/LegalQA\"\n",
    "with open('keys/etriAiKey.txt') as f:\n",
    "    accessKey = f.read()"
   ]
  },
  {
   "cell_type": "code",
   "execution_count": 2,
   "metadata": {},
   "outputs": [],
   "source": [
    "headers={\"Content-Type\": \"application/json; charset=UTF-8\",\"Authorization\": accessKey}\n",
    "question = '대통령의 임기는?'\n",
    "requestJson = { \"argument\": { \"question\": question } }"
   ]
  },
  {
   "cell_type": "code",
   "execution_count": 3,
   "metadata": {},
   "outputs": [
    {
     "data": {
      "text/plain": [
       "{'result': 0,\n",
       " 'return_object': {'LegalInfo': {'AnswerInfo': [{'rank': 1,\n",
       "     'answer': '5년',\n",
       "     'source': '대한민국 헌법 제4장 정부 / 제1절 대통령',\n",
       "     'clause': '대한민국 헌법\\n\\n대통령의 임기는 5년으로 하며, 중임할 수 없다.',\n",
       "     'confidence': 0.986524},\n",
       "    {'rank': 2,\n",
       "     'answer': '전임대통령의 임기만료일의 다음날 0시부터 개시',\n",
       "     'source': '공직선거법 제1장 총칙',\n",
       "     'clause': '임기개시\\n①대통령의 임기는 전임대통령의 임기만료일의 다음날 0시부터 개시된다. 다만, 전임자의 임기가 만료된 후에 실시하는 선거와 궐위로 인한 선거에 의한 대통령의 임기는 당선이 결정된 때부터 개시된다. <개정 2003.2.4>\\n②국회의원과 지방의회의원(이하 이 項에서 \"議員\"이라 한다)의 임기는 총선거에 의한 전임의원의 임기만료일의 다음 날부터 개시된다. 다만, 의원의 임기가 개시된 후에 실시하는 선거와 지방의회의원의 증원선거에 의한 의원의 임기는 당선이 결정된 때부터 개시되며 전임자 또는 같은 종류의 의원의 잔임기간으로 한다.\\n...(생략)',\n",
       "     'confidence': 0.506143},\n",
       "    {'rank': 3,\n",
       "     'answer': '이 헌법시행일로부터 개시',\n",
       "     'source': '대한민국 헌법 제10장 헌법개정 / 부칙',\n",
       "     'clause': '① 이 헌법에 의한 최초의 대통령선거는 이 헌법시행일 40일 전까지 실시한다.\\n② 이 헌법에 의한 최초의 대통령의 임기는 이 헌법시행일로부터 개시한다.',\n",
       "     'confidence': 0.004501},\n",
       "    {'rank': 4,\n",
       "     'answer': '즉시 임명',\n",
       "     'source': '진실ㆍ화해를 위한 과거사정리 기본법 제2장 위원회의 구성과 운영',\n",
       "     'clause': '위원장 및 위원의 임기\\n①위원장 및 위원의 임기는 2년으로 하고, 연임할 수 있다. 다만, 제25조의 조사기간이 만료될 경우 그 만료일 이후 6월이 되는 날 위원의 임기도 만료되는 것으로 한다.\\n②위원의 임기가 만료되거나 임기 중 위원이 결원된 때에는 임기 만료 또는 결원된 날부터 30일 이내에 후임자를 선출 또는 지명하여야 하고, 대통령은 즉시 임명하여야 한다.\\n③결원이 된 위원의 후임으로 임명된 위원의 임기는 새로이 개시된다.',\n",
       "     'confidence': 0.000375}],\n",
       "   'RelatedQs': []}}}"
      ]
     },
     "execution_count": 3,
     "metadata": {},
     "output_type": "execute_result"
    }
   ],
   "source": [
    "result = requests.post(\n",
    "    openApiURL, headers=headers, data=json.dumps(requestJson)\n",
    ").json()\n",
    "result"
   ]
  },
  {
   "cell_type": "code",
   "execution_count": 4,
   "metadata": {},
   "outputs": [
    {
     "data": {
      "text/plain": [
       "'5년'"
      ]
     },
     "execution_count": 4,
     "metadata": {},
     "output_type": "execute_result"
    }
   ],
   "source": [
    "result['return_object']['LegalInfo']['AnswerInfo'][0]['answer']"
   ]
  },
  {
   "cell_type": "code",
   "execution_count": 5,
   "metadata": {},
   "outputs": [
    {
     "data": {
      "text/plain": [
       "{'result': 0,\n",
       " 'return_object': {'LegalInfo': {'AnswerInfo': [], 'RelatedQs': []}}}"
      ]
     },
     "execution_count": 5,
     "metadata": {},
     "output_type": "execute_result"
    }
   ],
   "source": [
    "question = '아파트 중개수수료는?'\n",
    "requestJson = { \"argument\": { \"question\": question } }\n",
    "result = requests.post(\n",
    "    openApiURL, headers=headers, data=json.dumps(requestJson)\n",
    ").json()\n",
    "result"
   ]
  },
  {
   "cell_type": "code",
   "execution_count": 8,
   "metadata": {},
   "outputs": [
    {
     "data": {
      "text/plain": [
       "'답을 찾지 못했습니다.'"
      ]
     },
     "execution_count": 8,
     "metadata": {},
     "output_type": "execute_result"
    }
   ],
   "source": [
    "try:\n",
    "    answer = result['return_object']['LegalInfo']['AnswerInfo'][0]['answer']\n",
    "except:\n",
    "    answer = '답을 찾지 못했습니다.'\n",
    "answer"
   ]
  },
  {
   "cell_type": "code",
   "execution_count": null,
   "metadata": {},
   "outputs": [],
   "source": []
  }
 ],
 "metadata": {
  "kernelspec": {
   "display_name": "base",
   "language": "python",
   "name": "python3"
  },
  "language_info": {
   "codemirror_mode": {
    "name": "ipython",
    "version": 3
   },
   "file_extension": ".py",
   "mimetype": "text/x-python",
   "name": "python",
   "nbconvert_exporter": "python",
   "pygments_lexer": "ipython3",
   "version": "3.11.4"
  }
 },
 "nbformat": 4,
 "nbformat_minor": 2
}
