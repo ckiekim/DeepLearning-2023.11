{
  "nbformat": 4,
  "nbformat_minor": 0,
  "metadata": {
    "colab": {
      "provenance": [],
      "gpuType": "T4"
    },
    "kernelspec": {
      "name": "python3",
      "display_name": "Python 3"
    },
    "language_info": {
      "name": "python"
    },
    "accelerator": "GPU"
  },
  "cells": [
    {
      "cell_type": "markdown",
      "source": [
        "## IMDB 영화리뷰 감성분석"
      ],
      "metadata": {
        "id": "17pvaG_hCZU4"
      }
    },
    {
      "cell_type": "code",
      "execution_count": 1,
      "metadata": {
        "id": "mewsDz7YCTpD"
      },
      "outputs": [],
      "source": [
        "import numpy as np\n",
        "import tensorflow as tf\n",
        "seed = 2023\n",
        "np.random.seed(seed)\n",
        "tf.random.set_seed(seed)"
      ]
    },
    {
      "cell_type": "code",
      "source": [
        "from tensorflow.keras.datasets import imdb\n",
        "(X_train, y_train), (X_test, y_test) = imdb.load_data()"
      ],
      "metadata": {
        "colab": {
          "base_uri": "https://localhost:8080/"
        },
        "id": "og0n0CWMCovN",
        "outputId": "4bb4f192-280b-44bd-b697-13ac96f8f1af"
      },
      "execution_count": 2,
      "outputs": [
        {
          "output_type": "stream",
          "name": "stdout",
          "text": [
            "Downloading data from https://storage.googleapis.com/tensorflow/tf-keras-datasets/imdb.npz\n",
            "17464789/17464789 [==============================] - 2s 0us/step\n"
          ]
        }
      ]
    },
    {
      "cell_type": "code",
      "source": [
        "len(X_train), len(X_test)"
      ],
      "metadata": {
        "colab": {
          "base_uri": "https://localhost:8080/"
        },
        "id": "S-gagwnVC8bo",
        "outputId": "56ed5f1e-c575-43c5-901e-4fb85c11c390"
      },
      "execution_count": 3,
      "outputs": [
        {
          "output_type": "execute_result",
          "data": {
            "text/plain": [
              "(25000, 25000)"
            ]
          },
          "metadata": {},
          "execution_count": 3
        }
      ]
    },
    {
      "cell_type": "code",
      "source": [
        "# 등장한 단어수\n",
        "len(imdb.get_word_index())"
      ],
      "metadata": {
        "colab": {
          "base_uri": "https://localhost:8080/"
        },
        "id": "WHkq4CC9DCVw",
        "outputId": "c92f3ad1-5b16-4fc4-8f08-a79b6f5cf195"
      },
      "execution_count": 4,
      "outputs": [
        {
          "output_type": "stream",
          "name": "stdout",
          "text": [
            "Downloading data from https://storage.googleapis.com/tensorflow/tf-keras-datasets/imdb_word_index.json\n",
            "1641221/1641221 [==============================] - 1s 1us/step\n"
          ]
        },
        {
          "output_type": "execute_result",
          "data": {
            "text/plain": [
              "88584"
            ]
          },
          "metadata": {},
          "execution_count": 4
        }
      ]
    },
    {
      "cell_type": "code",
      "source": [
        "print(X_train[0])"
      ],
      "metadata": {
        "colab": {
          "base_uri": "https://localhost:8080/"
        },
        "id": "zNh0_wIDDnCc",
        "outputId": "e75e5531-ee70-448f-db1f-7df654710058"
      },
      "execution_count": 5,
      "outputs": [
        {
          "output_type": "stream",
          "name": "stdout",
          "text": [
            "[1, 14, 22, 16, 43, 530, 973, 1622, 1385, 65, 458, 4468, 66, 3941, 4, 173, 36, 256, 5, 25, 100, 43, 838, 112, 50, 670, 22665, 9, 35, 480, 284, 5, 150, 4, 172, 112, 167, 21631, 336, 385, 39, 4, 172, 4536, 1111, 17, 546, 38, 13, 447, 4, 192, 50, 16, 6, 147, 2025, 19, 14, 22, 4, 1920, 4613, 469, 4, 22, 71, 87, 12, 16, 43, 530, 38, 76, 15, 13, 1247, 4, 22, 17, 515, 17, 12, 16, 626, 18, 19193, 5, 62, 386, 12, 8, 316, 8, 106, 5, 4, 2223, 5244, 16, 480, 66, 3785, 33, 4, 130, 12, 16, 38, 619, 5, 25, 124, 51, 36, 135, 48, 25, 1415, 33, 6, 22, 12, 215, 28, 77, 52, 5, 14, 407, 16, 82, 10311, 8, 4, 107, 117, 5952, 15, 256, 4, 31050, 7, 3766, 5, 723, 36, 71, 43, 530, 476, 26, 400, 317, 46, 7, 4, 12118, 1029, 13, 104, 88, 4, 381, 15, 297, 98, 32, 2071, 56, 26, 141, 6, 194, 7486, 18, 4, 226, 22, 21, 134, 476, 26, 480, 5, 144, 30, 5535, 18, 51, 36, 28, 224, 92, 25, 104, 4, 226, 65, 16, 38, 1334, 88, 12, 16, 283, 5, 16, 4472, 113, 103, 32, 15, 16, 5345, 19, 178, 32]\n"
          ]
        }
      ]
    },
    {
      "cell_type": "code",
      "source": [
        "# 리뷰 최대/평균 길이\n",
        "max(len(s) for s in X_train), sum(len(s) for s in X_train) / len(X_train)"
      ],
      "metadata": {
        "colab": {
          "base_uri": "https://localhost:8080/"
        },
        "id": "yEB4NOxPDWm1",
        "outputId": "2c76bedf-3d5f-4f6e-ac24-b16d4e6e7c20"
      },
      "execution_count": 6,
      "outputs": [
        {
          "output_type": "execute_result",
          "data": {
            "text/plain": [
              "(2494, 238.71364)"
            ]
          },
          "metadata": {},
          "execution_count": 6
        }
      ]
    },
    {
      "cell_type": "markdown",
      "source": [
        "#### 1. LSTM으로 감성분석\n",
        "- 단어빈도수 기준 많이 사용되는 10,000 단어만 사용\n",
        "- 한 문장의 단어수: 200"
      ],
      "metadata": {
        "id": "v6pEnpKYE4j5"
      }
    },
    {
      "cell_type": "code",
      "source": [
        "from tensorflow.keras.models import Sequential, load_model\n",
        "from tensorflow.keras.layers import Embedding, LSTM, Dense\n",
        "from tensorflow.keras.callbacks import ModelCheckpoint, EarlyStopping\n",
        "from tensorflow.keras.preprocessing.sequence import pad_sequences"
      ],
      "metadata": {
        "id": "R8FcwOWED3ky"
      },
      "execution_count": 7,
      "outputs": []
    },
    {
      "cell_type": "code",
      "source": [
        "num_words = 10000\n",
        "(X_train, y_train), (X_test, y_test) = imdb.load_data(num_words=num_words)"
      ],
      "metadata": {
        "id": "oWsOyVTFF8AF"
      },
      "execution_count": 8,
      "outputs": []
    },
    {
      "cell_type": "code",
      "source": [
        "max_len = 200\n",
        "X_train = pad_sequences(X_train, maxlen=max_len)\n",
        "X_test = pad_sequences(X_test, maxlen=max_len)\n",
        "X_train.shape, X_test.shape"
      ],
      "metadata": {
        "colab": {
          "base_uri": "https://localhost:8080/"
        },
        "id": "7zT4_KUeGNOU",
        "outputId": "7d7d080a-5b7b-40e5-f2ce-70036785d73e"
      },
      "execution_count": 9,
      "outputs": [
        {
          "output_type": "execute_result",
          "data": {
            "text/plain": [
              "((25000, 200), (25000, 200))"
            ]
          },
          "metadata": {},
          "execution_count": 9
        }
      ]
    },
    {
      "cell_type": "markdown",
      "source": [
        "- 모델\n",
        "    - Embedding vector size: 100\n",
        "    - LSTM node 수: 128"
      ],
      "metadata": {
        "id": "I8GtmbSyG9Qa"
      }
    },
    {
      "cell_type": "code",
      "source": [
        "model = Sequential([\n",
        "    Embedding(num_words, 100, input_length=max_len),\n",
        "    LSTM(128),\n",
        "    Dense(1, activation='sigmoid')\n",
        "])\n",
        "model.summary()"
      ],
      "metadata": {
        "colab": {
          "base_uri": "https://localhost:8080/"
        },
        "id": "NW8P5YGoGlD0",
        "outputId": "e4fddf0e-f7d3-4bda-f808-f8fe157dc809"
      },
      "execution_count": 10,
      "outputs": [
        {
          "output_type": "stream",
          "name": "stdout",
          "text": [
            "Model: \"sequential\"\n",
            "_________________________________________________________________\n",
            " Layer (type)                Output Shape              Param #   \n",
            "=================================================================\n",
            " embedding (Embedding)       (None, 200, 100)          1000000   \n",
            "                                                                 \n",
            " lstm (LSTM)                 (None, 128)               117248    \n",
            "                                                                 \n",
            " dense (Dense)               (None, 1)                 129       \n",
            "                                                                 \n",
            "=================================================================\n",
            "Total params: 1117377 (4.26 MB)\n",
            "Trainable params: 1117377 (4.26 MB)\n",
            "Non-trainable params: 0 (0.00 Byte)\n",
            "_________________________________________________________________\n"
          ]
        }
      ]
    },
    {
      "cell_type": "code",
      "source": [
        "model.compile('adam', 'binary_crossentropy', ['accuracy'])\n",
        "\n",
        "model_path = 'best-imdb-lstm.h5'\n",
        "mc = ModelCheckpoint(model_path, save_best_only=True, verbose=1)\n",
        "es = EarlyStopping(patience=5)"
      ],
      "metadata": {
        "id": "O9zM52KnHn9m"
      },
      "execution_count": 11,
      "outputs": []
    },
    {
      "cell_type": "code",
      "source": [
        "hist = model.fit(\n",
        "    X_train, y_train, validation_split=0.2, epochs=30, batch_size=64, callbacks=[mc,es]\n",
        ")"
      ],
      "metadata": {
        "colab": {
          "base_uri": "https://localhost:8080/"
        },
        "id": "_2NIM0LKIMva",
        "outputId": "019e0896-7702-4dda-e35d-191c414dcdb4"
      },
      "execution_count": 12,
      "outputs": [
        {
          "output_type": "stream",
          "name": "stdout",
          "text": [
            "Epoch 1/30\n",
            "313/313 [==============================] - ETA: 0s - loss: 0.4575 - accuracy: 0.7778\n",
            "Epoch 1: val_loss improved from inf to 0.31881, saving model to best-imdb-lstm.h5\n",
            "313/313 [==============================] - 48s 130ms/step - loss: 0.4575 - accuracy: 0.7778 - val_loss: 0.3188 - val_accuracy: 0.8676\n",
            "Epoch 2/30\n",
            "  1/313 [..............................] - ETA: 6s - loss: 0.2268 - accuracy: 0.9062"
          ]
        },
        {
          "output_type": "stream",
          "name": "stderr",
          "text": [
            "/usr/local/lib/python3.10/dist-packages/keras/src/engine/training.py:3079: UserWarning: You are saving your model as an HDF5 file via `model.save()`. This file format is considered legacy. We recommend using instead the native Keras format, e.g. `model.save('my_model.keras')`.\n",
            "  saving_api.save_model(\n"
          ]
        },
        {
          "output_type": "stream",
          "name": "stdout",
          "text": [
            "313/313 [==============================] - ETA: 0s - loss: 0.2473 - accuracy: 0.9043\n",
            "Epoch 2: val_loss improved from 0.31881 to 0.31675, saving model to best-imdb-lstm.h5\n",
            "313/313 [==============================] - 18s 59ms/step - loss: 0.2473 - accuracy: 0.9043 - val_loss: 0.3168 - val_accuracy: 0.8642\n",
            "Epoch 3/30\n",
            "313/313 [==============================] - ETA: 0s - loss: 0.1733 - accuracy: 0.9366\n",
            "Epoch 3: val_loss did not improve from 0.31675\n",
            "313/313 [==============================] - 10s 33ms/step - loss: 0.1733 - accuracy: 0.9366 - val_loss: 0.3685 - val_accuracy: 0.8690\n",
            "Epoch 4/30\n",
            "313/313 [==============================] - ETA: 0s - loss: 0.1201 - accuracy: 0.9572\n",
            "Epoch 4: val_loss did not improve from 0.31675\n",
            "313/313 [==============================] - 7s 24ms/step - loss: 0.1201 - accuracy: 0.9572 - val_loss: 0.3869 - val_accuracy: 0.8560\n",
            "Epoch 5/30\n",
            "313/313 [==============================] - ETA: 0s - loss: 0.1008 - accuracy: 0.9633\n",
            "Epoch 5: val_loss did not improve from 0.31675\n",
            "313/313 [==============================] - 8s 24ms/step - loss: 0.1008 - accuracy: 0.9633 - val_loss: 0.5859 - val_accuracy: 0.8522\n",
            "Epoch 6/30\n",
            "313/313 [==============================] - ETA: 0s - loss: 0.0830 - accuracy: 0.9715\n",
            "Epoch 6: val_loss did not improve from 0.31675\n",
            "313/313 [==============================] - 5s 17ms/step - loss: 0.0830 - accuracy: 0.9715 - val_loss: 0.5119 - val_accuracy: 0.8526\n",
            "Epoch 7/30\n",
            "313/313 [==============================] - ETA: 0s - loss: 0.0682 - accuracy: 0.9768\n",
            "Epoch 7: val_loss did not improve from 0.31675\n",
            "313/313 [==============================] - 7s 22ms/step - loss: 0.0682 - accuracy: 0.9768 - val_loss: 0.5453 - val_accuracy: 0.8226\n"
          ]
        }
      ]
    },
    {
      "cell_type": "code",
      "source": [
        "best_model = load_model(model_path)\n",
        "best_model.evaluate(X_test, y_test)"
      ],
      "metadata": {
        "colab": {
          "base_uri": "https://localhost:8080/"
        },
        "id": "D932oK-wJnSU",
        "outputId": "c362cb1b-4de2-4696-9773-a6116fe0dc0a"
      },
      "execution_count": 13,
      "outputs": [
        {
          "output_type": "stream",
          "name": "stdout",
          "text": [
            "782/782 [==============================] - 5s 5ms/step - loss: 0.3259 - accuracy: 0.8626\n"
          ]
        },
        {
          "output_type": "execute_result",
          "data": {
            "text/plain": [
              "[0.32585662603378296, 0.8626000285148621]"
            ]
          },
          "metadata": {},
          "execution_count": 13
        }
      ]
    },
    {
      "cell_type": "markdown",
      "source": [
        "#### 2. Conv1D로 학습"
      ],
      "metadata": {
        "id": "5Xlv2CdUM9e3"
      }
    },
    {
      "cell_type": "code",
      "source": [
        "from tensorflow.keras.layers import Conv1D, MaxPooling1D, GlobalMaxPooling1D, Dropout"
      ],
      "metadata": {
        "id": "VF3GUwY_Jytt"
      },
      "execution_count": 14,
      "outputs": []
    },
    {
      "cell_type": "code",
      "source": [
        "model2 = Sequential([\n",
        "    Embedding(num_words, 100, input_length=max_len),\n",
        "    Dropout(0.5),\n",
        "    Conv1D(64, 7, activation='relu'),\n",
        "    MaxPooling1D(7),\n",
        "    Conv1D(64, 5, activation='relu'),\n",
        "    MaxPooling1D(5),\n",
        "    GlobalMaxPooling1D(),\n",
        "    Dense(1, 'sigmoid')\n",
        "])\n",
        "model2.summary()"
      ],
      "metadata": {
        "colab": {
          "base_uri": "https://localhost:8080/"
        },
        "id": "3y56ErxNNLG9",
        "outputId": "a8abc33d-200a-426a-9ec7-f0242f6321e0"
      },
      "execution_count": 15,
      "outputs": [
        {
          "output_type": "stream",
          "name": "stdout",
          "text": [
            "Model: \"sequential_1\"\n",
            "_________________________________________________________________\n",
            " Layer (type)                Output Shape              Param #   \n",
            "=================================================================\n",
            " embedding_1 (Embedding)     (None, 200, 100)          1000000   \n",
            "                                                                 \n",
            " dropout (Dropout)           (None, 200, 100)          0         \n",
            "                                                                 \n",
            " conv1d (Conv1D)             (None, 194, 64)           44864     \n",
            "                                                                 \n",
            " max_pooling1d (MaxPooling1  (None, 27, 64)            0         \n",
            " D)                                                              \n",
            "                                                                 \n",
            " conv1d_1 (Conv1D)           (None, 23, 64)            20544     \n",
            "                                                                 \n",
            " max_pooling1d_1 (MaxPoolin  (None, 4, 64)             0         \n",
            " g1D)                                                            \n",
            "                                                                 \n",
            " global_max_pooling1d (Glob  (None, 64)                0         \n",
            " alMaxPooling1D)                                                 \n",
            "                                                                 \n",
            " dense_1 (Dense)             (None, 1)                 65        \n",
            "                                                                 \n",
            "=================================================================\n",
            "Total params: 1065473 (4.06 MB)\n",
            "Trainable params: 1065473 (4.06 MB)\n",
            "Non-trainable params: 0 (0.00 Byte)\n",
            "_________________________________________________________________\n"
          ]
        }
      ]
    },
    {
      "cell_type": "code",
      "source": [
        "model2.compile('adam', 'binary_crossentropy', ['accuracy'])\n",
        "\n",
        "model_path2 = 'best-imdb-conv1d.h5'\n",
        "mc2 = ModelCheckpoint(model_path2, save_best_only=True, verbose=1)\n",
        "es2 = EarlyStopping(patience=5)"
      ],
      "metadata": {
        "id": "-DW54AorN2TE"
      },
      "execution_count": 16,
      "outputs": []
    },
    {
      "cell_type": "code",
      "source": [
        "hist2 = model2.fit(\n",
        "    X_train, y_train, validation_split=0.2, epochs=30, batch_size=64, callbacks=[mc2,es2]\n",
        ")"
      ],
      "metadata": {
        "colab": {
          "base_uri": "https://localhost:8080/"
        },
        "id": "54GHbUSmOFpL",
        "outputId": "12451fe3-bb5c-4950-915b-15ad87bc570a"
      },
      "execution_count": 17,
      "outputs": [
        {
          "output_type": "stream",
          "name": "stdout",
          "text": [
            "Epoch 1/30\n",
            "313/313 [==============================] - ETA: 0s - loss: 0.5387 - accuracy: 0.6927\n",
            "Epoch 1: val_loss improved from inf to 0.36972, saving model to best-imdb-conv1d.h5\n",
            "313/313 [==============================] - 33s 80ms/step - loss: 0.5387 - accuracy: 0.6927 - val_loss: 0.3697 - val_accuracy: 0.8454\n",
            "Epoch 2/30\n",
            "  1/313 [..............................] - ETA: 3s - loss: 0.3988 - accuracy: 0.8281"
          ]
        },
        {
          "output_type": "stream",
          "name": "stderr",
          "text": [
            "/usr/local/lib/python3.10/dist-packages/keras/src/engine/training.py:3079: UserWarning: You are saving your model as an HDF5 file via `model.save()`. This file format is considered legacy. We recommend using instead the native Keras format, e.g. `model.save('my_model.keras')`.\n",
            "  saving_api.save_model(\n"
          ]
        },
        {
          "output_type": "stream",
          "name": "stdout",
          "text": [
            "313/313 [==============================] - ETA: 0s - loss: 0.3031 - accuracy: 0.8720\n",
            "Epoch 2: val_loss improved from 0.36972 to 0.35186, saving model to best-imdb-conv1d.h5\n",
            "313/313 [==============================] - 10s 33ms/step - loss: 0.3031 - accuracy: 0.8720 - val_loss: 0.3519 - val_accuracy: 0.8494\n",
            "Epoch 3/30\n",
            "313/313 [==============================] - ETA: 0s - loss: 0.2176 - accuracy: 0.9137\n",
            "Epoch 3: val_loss did not improve from 0.35186\n",
            "313/313 [==============================] - 7s 23ms/step - loss: 0.2176 - accuracy: 0.9137 - val_loss: 0.3733 - val_accuracy: 0.8474\n",
            "Epoch 4/30\n",
            "313/313 [==============================] - ETA: 0s - loss: 0.1581 - accuracy: 0.9396\n",
            "Epoch 4: val_loss did not improve from 0.35186\n",
            "313/313 [==============================] - 4s 14ms/step - loss: 0.1581 - accuracy: 0.9396 - val_loss: 0.4201 - val_accuracy: 0.8466\n",
            "Epoch 5/30\n",
            "313/313 [==============================] - ETA: 0s - loss: 0.1114 - accuracy: 0.9599\n",
            "Epoch 5: val_loss did not improve from 0.35186\n",
            "313/313 [==============================] - 4s 12ms/step - loss: 0.1114 - accuracy: 0.9599 - val_loss: 0.5094 - val_accuracy: 0.8394\n",
            "Epoch 6/30\n",
            "313/313 [==============================] - ETA: 0s - loss: 0.0793 - accuracy: 0.9714\n",
            "Epoch 6: val_loss did not improve from 0.35186\n",
            "313/313 [==============================] - 4s 14ms/step - loss: 0.0793 - accuracy: 0.9714 - val_loss: 0.5784 - val_accuracy: 0.8362\n",
            "Epoch 7/30\n",
            "313/313 [==============================] - ETA: 0s - loss: 0.0571 - accuracy: 0.9793\n",
            "Epoch 7: val_loss did not improve from 0.35186\n",
            "313/313 [==============================] - 4s 11ms/step - loss: 0.0571 - accuracy: 0.9793 - val_loss: 0.7114 - val_accuracy: 0.8304\n"
          ]
        }
      ]
    },
    {
      "cell_type": "code",
      "source": [
        "best_model2 = load_model(model_path2)\n",
        "best_model2.evaluate(X_test, y_test)"
      ],
      "metadata": {
        "colab": {
          "base_uri": "https://localhost:8080/"
        },
        "id": "wJ3n-OA2OP0d",
        "outputId": "34cac38e-b281-4729-9e66-807f545428d0"
      },
      "execution_count": 18,
      "outputs": [
        {
          "output_type": "stream",
          "name": "stdout",
          "text": [
            "782/782 [==============================] - 3s 3ms/step - loss: 0.3714 - accuracy: 0.8348\n"
          ]
        },
        {
          "output_type": "execute_result",
          "data": {
            "text/plain": [
              "[0.37141725420951843, 0.8348000049591064]"
            ]
          },
          "metadata": {},
          "execution_count": 18
        }
      ]
    },
    {
      "cell_type": "code",
      "source": [],
      "metadata": {
        "id": "XBGXZCq1O3V5"
      },
      "execution_count": null,
      "outputs": []
    }
  ]
}