{
  "nbformat": 4,
  "nbformat_minor": 0,
  "metadata": {
    "colab": {
      "provenance": [],
      "gpuType": "T4"
    },
    "kernelspec": {
      "name": "python3",
      "display_name": "Python 3"
    },
    "language_info": {
      "name": "python"
    },
    "accelerator": "GPU"
  },
  "cells": [
    {
      "cell_type": "markdown",
      "source": [
        "## Reuters News 다중 분류 - LSTM\n",
        "- 데이터 탐색"
      ],
      "metadata": {
        "id": "Y7mvUWM9mEWH"
      }
    },
    {
      "cell_type": "code",
      "execution_count": 1,
      "metadata": {
        "id": "9SejU6N4l9W-"
      },
      "outputs": [],
      "source": [
        "import numpy as np\n",
        "import seaborn as sns\n",
        "import matplotlib.pyplot as plt\n",
        "from tensorflow.keras.datasets import reuters"
      ]
    },
    {
      "cell_type": "code",
      "source": [
        "(X_train, y_train), (X_test, y_test) = reuters.load_data()\n",
        "len(X_train), len(X_test)"
      ],
      "metadata": {
        "colab": {
          "base_uri": "https://localhost:8080/"
        },
        "id": "QzZN5A6HmWFf",
        "outputId": "a9504f31-537c-4063-dad7-41a0aa1ba370"
      },
      "execution_count": 2,
      "outputs": [
        {
          "output_type": "stream",
          "name": "stdout",
          "text": [
            "Downloading data from https://storage.googleapis.com/tensorflow/tf-keras-datasets/reuters.npz\n",
            "2110848/2110848 [==============================] - 0s 0us/step\n"
          ]
        },
        {
          "output_type": "execute_result",
          "data": {
            "text/plain": [
              "(8982, 2246)"
            ]
          },
          "metadata": {},
          "execution_count": 2
        }
      ]
    },
    {
      "cell_type": "code",
      "source": [
        "# 카테고리 갯수\n",
        "max(y_train) + 1"
      ],
      "metadata": {
        "colab": {
          "base_uri": "https://localhost:8080/"
        },
        "id": "wCCvHcRdmkda",
        "outputId": "aa0d99d6-ccd6-4d41-e7ac-2e09730faa76"
      },
      "execution_count": 3,
      "outputs": [
        {
          "output_type": "execute_result",
          "data": {
            "text/plain": [
              "46"
            ]
          },
          "metadata": {},
          "execution_count": 3
        }
      ]
    },
    {
      "cell_type": "code",
      "source": [
        "# 첫번째 뉴스\n",
        "print(X_train[0])"
      ],
      "metadata": {
        "colab": {
          "base_uri": "https://localhost:8080/"
        },
        "id": "7w7w2eb7mww5",
        "outputId": "3571f1bc-f7d3-454a-9d30-6add7fc73d4e"
      },
      "execution_count": 4,
      "outputs": [
        {
          "output_type": "stream",
          "name": "stdout",
          "text": [
            "[1, 27595, 28842, 8, 43, 10, 447, 5, 25, 207, 270, 5, 3095, 111, 16, 369, 186, 90, 67, 7, 89, 5, 19, 102, 6, 19, 124, 15, 90, 67, 84, 22, 482, 26, 7, 48, 4, 49, 8, 864, 39, 209, 154, 6, 151, 6, 83, 11, 15, 22, 155, 11, 15, 7, 48, 9, 4579, 1005, 504, 6, 258, 6, 272, 11, 15, 22, 134, 44, 11, 15, 16, 8, 197, 1245, 90, 67, 52, 29, 209, 30, 32, 132, 6, 109, 15, 17, 12]\n"
          ]
        }
      ]
    },
    {
      "cell_type": "code",
      "source": [
        "type(reuters.get_word_index())"
      ],
      "metadata": {
        "colab": {
          "base_uri": "https://localhost:8080/"
        },
        "id": "F88Eyg6hm5zU",
        "outputId": "e85811c7-b39d-4481-cb87-51a915f07275"
      },
      "execution_count": 5,
      "outputs": [
        {
          "output_type": "stream",
          "name": "stdout",
          "text": [
            "Downloading data from https://storage.googleapis.com/tensorflow/tf-keras-datasets/reuters_word_index.json\n",
            "550378/550378 [==============================] - 0s 0us/step\n"
          ]
        },
        {
          "output_type": "execute_result",
          "data": {
            "text/plain": [
              "dict"
            ]
          },
          "metadata": {},
          "execution_count": 5
        }
      ]
    },
    {
      "cell_type": "code",
      "source": [
        "reuters.get_word_index()['the']"
      ],
      "metadata": {
        "colab": {
          "base_uri": "https://localhost:8080/"
        },
        "id": "9pjyy-uvnNys",
        "outputId": "94300652-8748-4403-a4fd-88994d9ed5a1"
      },
      "execution_count": 6,
      "outputs": [
        {
          "output_type": "execute_result",
          "data": {
            "text/plain": [
              "1"
            ]
          },
          "metadata": {},
          "execution_count": 6
        }
      ]
    },
    {
      "cell_type": "code",
      "source": [
        "index_word = {}\n",
        "for key, value in reuters.get_word_index().items():\n",
        "    index_word[value] = key\n",
        "len(index_word)"
      ],
      "metadata": {
        "colab": {
          "base_uri": "https://localhost:8080/"
        },
        "id": "Cx0EavlBndH8",
        "outputId": "ae7d59c3-8678-4bb6-bb22-54a5730aef6f"
      },
      "execution_count": 7,
      "outputs": [
        {
          "output_type": "execute_result",
          "data": {
            "text/plain": [
              "30979"
            ]
          },
          "metadata": {},
          "execution_count": 7
        }
      ]
    },
    {
      "cell_type": "code",
      "source": [
        "# 첫번째 기사 복원\n",
        "' '.join(index_word[index] for index in X_train[0])"
      ],
      "metadata": {
        "colab": {
          "base_uri": "https://localhost:8080/",
          "height": 72
        },
        "id": "SxaiJkiAnycl",
        "outputId": "c7c8855f-a04c-4e3c-8f51-9072fe1febc1"
      },
      "execution_count": 8,
      "outputs": [
        {
          "output_type": "execute_result",
          "data": {
            "text/plain": [
              "'the wattie nondiscriminatory mln loss for plc said at only ended said commonwealth could 1 traders now april 0 a after said from 1985 and from foreign 000 april 0 prices its account year a but in this mln home an states earlier and rise and revs vs 000 its 16 vs 000 a but 3 psbr oils several and shareholders and dividend vs 000 its all 4 vs 000 1 mln agreed largely april 0 are 2 states will billion total and against 000 pct dlrs'"
            ],
            "application/vnd.google.colaboratory.intrinsic+json": {
              "type": "string"
            }
          },
          "metadata": {},
          "execution_count": 8
        }
      ]
    },
    {
      "cell_type": "code",
      "source": [
        "# 뉴스 기사의 최대/평균 길이\n",
        "max(len(s) for s in X_train), sum(map(len, X_train)) / len(X_train)"
      ],
      "metadata": {
        "colab": {
          "base_uri": "https://localhost:8080/"
        },
        "id": "VHMsRX_-oDuV",
        "outputId": "4799ccd0-6178-4a56-8548-38f2c3520a3d"
      },
      "execution_count": 9,
      "outputs": [
        {
          "output_type": "execute_result",
          "data": {
            "text/plain": [
              "(2376, 145.5398574927633)"
            ]
          },
          "metadata": {},
          "execution_count": 9
        }
      ]
    },
    {
      "cell_type": "code",
      "source": [
        "# 뉴스 기사 단어수의 분포\n",
        "plt.figure(figsize=(5,3))\n",
        "plt.hist([len(s) for s in X_train], bins=50)\n",
        "plt.xlabel('length of samples'), plt.ylabel('number of samples')\n",
        "plt.show()"
      ],
      "metadata": {
        "colab": {
          "base_uri": "https://localhost:8080/",
          "height": 312
        },
        "id": "DRVzfWkUoglJ",
        "outputId": "4eec734c-d3cf-49a9-f0e8-572f55a028eb"
      },
      "execution_count": 10,
      "outputs": [
        {
          "output_type": "display_data",
          "data": {
            "text/plain": [
              "<Figure size 500x300 with 1 Axes>"
            ],
            "image/png": "[encoded data removed]"
          },
          "metadata": {}
        }
      ]
    },
    {
      "cell_type": "code",
      "source": [
        "# 뉴스 그룹의 분포\n",
        "plt.figure(figsize=(12,5))\n",
        "sns.countplot(x=y_train);"
      ],
      "metadata": {
        "colab": {
          "base_uri": "https://localhost:8080/",
          "height": 445
        },
        "id": "rtKM5q4ppA8E",
        "outputId": "abdd0a3a-826f-43bb-a09a-380f48965209"
      },
      "execution_count": 11,
      "outputs": [
        {
          "output_type": "display_data",
          "data": {
            "text/plain": [
              "<Figure size 1200x500 with 1 Axes>"
            ],
            "image/png": "[encoded data removed]"
          },
          "metadata": {}
        }
      ]
    },
    {
      "cell_type": "markdown",
      "source": [
        "#### LSTM으로 뉴스 분류\n",
        "- 문장 길이: 120 단어(최대: 2,376, 평균: 146)\n",
        "- 단어: 빈도수 기준 3,000 단어(총 단어수: 30,979)"
      ],
      "metadata": {
        "id": "FyUGLp8sq5_J"
      }
    },
    {
      "cell_type": "code",
      "source": [
        "max_words = 3000\n",
        "max_len = 120"
      ],
      "metadata": {
        "id": "eao_d1pAppc9"
      },
      "execution_count": 12,
      "outputs": []
    },
    {
      "cell_type": "code",
      "source": [
        "(X_train, y_train), (X_test, y_test) = reuters.load_data(\n",
        "    num_words=max_words, test_split=0.2\n",
        ")\n",
        "len(X_train), len(X_test)"
      ],
      "metadata": {
        "colab": {
          "base_uri": "https://localhost:8080/"
        },
        "id": "6wExlDBGrawk",
        "outputId": "8bed6b47-b77a-4367-d56b-8f4420da8f0f"
      },
      "execution_count": 13,
      "outputs": [
        {
          "output_type": "execute_result",
          "data": {
            "text/plain": [
              "(8982, 2246)"
            ]
          },
          "metadata": {},
          "execution_count": 13
        }
      ]
    },
    {
      "cell_type": "code",
      "source": [
        "import tensorflow as tf\n",
        "seed = 2023\n",
        "np.random.seed(seed)\n",
        "tf.random.set_seed(seed)"
      ],
      "metadata": {
        "id": "AL_ZHaXNrw2p"
      },
      "execution_count": 14,
      "outputs": []
    },
    {
      "cell_type": "code",
      "source": [
        "from tensorflow.keras.preprocessing.sequence import pad_sequences\n",
        "from tensorflow.keras.utils import to_categorical\n",
        "from tensorflow.keras.models import Sequential, load_model\n",
        "from tensorflow.keras.layers import Embedding, LSTM, Dense\n",
        "from tensorflow.keras.callbacks import ModelCheckpoint, EarlyStopping"
      ],
      "metadata": {
        "id": "I5v3ULRqr5HI"
      },
      "execution_count": 15,
      "outputs": []
    },
    {
      "cell_type": "code",
      "source": [
        "X_train = pad_sequences(X_train, maxlen=max_len)\n",
        "X_test = pad_sequences(X_test, maxlen=max_len)\n",
        "Y_train = to_categorical(y_train)\n",
        "Y_test = to_categorical(y_test)\n",
        "X_train.shape, X_test.shape, Y_train.shape, Y_test.shape"
      ],
      "metadata": {
        "colab": {
          "base_uri": "https://localhost:8080/"
        },
        "id": "-CmcxmZwshOS",
        "outputId": "3efb11f1-312c-4a4d-d520-740ab2bc30ae"
      },
      "execution_count": 16,
      "outputs": [
        {
          "output_type": "execute_result",
          "data": {
            "text/plain": [
              "((8982, 120), (2246, 120), (8982, 46), (2246, 46))"
            ]
          },
          "metadata": {},
          "execution_count": 16
        }
      ]
    },
    {
      "cell_type": "markdown",
      "source": [
        "- 모델\n",
        "    - Embedding vector length: 64\n",
        "    - LSTM unit 갯수: 100"
      ],
      "metadata": {
        "id": "EAqMGZrwtHj9"
      }
    },
    {
      "cell_type": "code",
      "source": [
        "model = Sequential([\n",
        "    Embedding(max_words, 64, input_length=max_len),\n",
        "    LSTM(100),\n",
        "    Dense(46, activation='softmax')\n",
        "])\n",
        "model.summary()"
      ],
      "metadata": {
        "colab": {
          "base_uri": "https://localhost:8080/"
        },
        "id": "s4XnEeRAtCLk",
        "outputId": "d39a9fe3-2394-4919-fbb1-196cbecc0c50"
      },
      "execution_count": 17,
      "outputs": [
        {
          "output_type": "stream",
          "name": "stdout",
          "text": [
            "Model: \"sequential\"\n",
            "_________________________________________________________________\n",
            " Layer (type)                Output Shape              Param #   \n",
            "=================================================================\n",
            " embedding (Embedding)       (None, 120, 64)           192000    \n",
            "                                                                 \n",
            " lstm (LSTM)                 (None, 100)               66000     \n",
            "                                                                 \n",
            " dense (Dense)               (None, 46)                4646      \n",
            "                                                                 \n",
            "=================================================================\n",
            "Total params: 262646 (1.00 MB)\n",
            "Trainable params: 262646 (1.00 MB)\n",
            "Non-trainable params: 0 (0.00 Byte)\n",
            "_________________________________________________________________\n"
          ]
        }
      ]
    },
    {
      "cell_type": "code",
      "source": [
        "model.compile('adam', 'categorical_crossentropy', ['accuracy'])\n",
        "\n",
        "model_path = 'best-reuters-lstm.h5'\n",
        "mc = ModelCheckpoint(model_path, save_best_only=True, verbose=1)\n",
        "es = EarlyStopping(patience=10)"
      ],
      "metadata": {
        "id": "7qkzhVZ5tp4H"
      },
      "execution_count": 18,
      "outputs": []
    },
    {
      "cell_type": "code",
      "source": [
        "hist = model.fit(\n",
        "    X_train, Y_train, validation_split=0.2, verbose=0,\n",
        "    epochs=100, batch_size=128, callbacks=[mc,es]\n",
        ")"
      ],
      "metadata": {
        "colab": {
          "base_uri": "https://localhost:8080/"
        },
        "id": "ZE54U9iuuPeY",
        "outputId": "d09f7698-4d94-4bcb-87b1-0bdfdd43c72d"
      },
      "execution_count": 19,
      "outputs": [
        {
          "output_type": "stream",
          "name": "stdout",
          "text": [
            "\n",
            "Epoch 1: val_loss improved from inf to 2.42018, saving model to best-reuters-lstm.h5\n"
          ]
        },
        {
          "output_type": "stream",
          "name": "stderr",
          "text": [
            "/usr/local/lib/python3.10/dist-packages/keras/src/engine/training.py:3079: UserWarning: You are saving your model as an HDF5 file via `model.save()`. This file format is considered legacy. We recommend using instead the native Keras format, e.g. `model.save('my_model.keras')`.\n",
            "  saving_api.save_model(\n"
          ]
        },
        {
          "output_type": "stream",
          "name": "stdout",
          "text": [
            "\n",
            "Epoch 2: val_loss improved from 2.42018 to 2.21435, saving model to best-reuters-lstm.h5\n",
            "\n",
            "Epoch 3: val_loss improved from 2.21435 to 2.04040, saving model to best-reuters-lstm.h5\n",
            "\n",
            "Epoch 4: val_loss improved from 2.04040 to 1.83473, saving model to best-reuters-lstm.h5\n",
            "\n",
            "Epoch 5: val_loss improved from 1.83473 to 1.74158, saving model to best-reuters-lstm.h5\n",
            "\n",
            "Epoch 6: val_loss improved from 1.74158 to 1.72857, saving model to best-reuters-lstm.h5\n",
            "\n",
            "Epoch 7: val_loss improved from 1.72857 to 1.67666, saving model to best-reuters-lstm.h5\n",
            "\n",
            "Epoch 8: val_loss did not improve from 1.67666\n",
            "\n",
            "Epoch 9: val_loss did not improve from 1.67666\n",
            "\n",
            "Epoch 10: val_loss improved from 1.67666 to 1.62141, saving model to best-reuters-lstm.h5\n",
            "\n",
            "Epoch 11: val_loss improved from 1.62141 to 1.56367, saving model to best-reuters-lstm.h5\n",
            "\n",
            "Epoch 12: val_loss improved from 1.56367 to 1.53804, saving model to best-reuters-lstm.h5\n",
            "\n",
            "Epoch 13: val_loss improved from 1.53804 to 1.53182, saving model to best-reuters-lstm.h5\n",
            "\n",
            "Epoch 14: val_loss improved from 1.53182 to 1.52748, saving model to best-reuters-lstm.h5\n",
            "\n",
            "Epoch 15: val_loss improved from 1.52748 to 1.50616, saving model to best-reuters-lstm.h5\n",
            "\n",
            "Epoch 16: val_loss improved from 1.50616 to 1.40117, saving model to best-reuters-lstm.h5\n",
            "\n",
            "Epoch 17: val_loss improved from 1.40117 to 1.37756, saving model to best-reuters-lstm.h5\n",
            "\n",
            "Epoch 18: val_loss improved from 1.37756 to 1.35900, saving model to best-reuters-lstm.h5\n",
            "\n",
            "Epoch 19: val_loss did not improve from 1.35900\n",
            "\n",
            "Epoch 20: val_loss did not improve from 1.35900\n",
            "\n",
            "Epoch 21: val_loss did not improve from 1.35900\n",
            "\n",
            "Epoch 22: val_loss did not improve from 1.35900\n",
            "\n",
            "Epoch 23: val_loss did not improve from 1.35900\n",
            "\n",
            "Epoch 24: val_loss did not improve from 1.35900\n",
            "\n",
            "Epoch 25: val_loss did not improve from 1.35900\n",
            "\n",
            "Epoch 26: val_loss did not improve from 1.35900\n",
            "\n",
            "Epoch 27: val_loss did not improve from 1.35900\n",
            "\n",
            "Epoch 28: val_loss did not improve from 1.35900\n"
          ]
        }
      ]
    },
    {
      "cell_type": "code",
      "source": [
        "best_model = load_model(model_path)\n",
        "best_model.evaluate(X_test, Y_test)"
      ],
      "metadata": {
        "colab": {
          "base_uri": "https://localhost:8080/"
        },
        "id": "wTgGwHYcueJP",
        "outputId": "05280cb1-fcf9-4095-ee2e-ff2e3dbfe0c3"
      },
      "execution_count": 20,
      "outputs": [
        {
          "output_type": "stream",
          "name": "stdout",
          "text": [
            "71/71 [==============================] - 1s 7ms/step - loss: 1.4273 - accuracy: 0.6456\n"
          ]
        },
        {
          "output_type": "execute_result",
          "data": {
            "text/plain": [
              "[1.4273074865341187, 0.6455921530723572]"
            ]
          },
          "metadata": {},
          "execution_count": 20
        }
      ]
    },
    {
      "cell_type": "markdown",
      "source": [
        "#### LSTM으로 뉴스 분류 Ver.2\n",
        "- 문장 길이: 100 단어(최대: 2,376, 평균: 146)\n",
        "- 단어: 빈도수 기준 1,000 단어(총 단어수: 30,979)"
      ],
      "metadata": {
        "id": "CGpHJoT0yUeN"
      }
    },
    {
      "cell_type": "code",
      "source": [
        "max_words = 1000\n",
        "max_len = 100\n",
        "(X_train, y_train), (X_test, y_test) = reuters.load_data(\n",
        "    num_words=max_words, test_split=0.2\n",
        ")\n",
        "X_train = pad_sequences(X_train, maxlen=max_len)\n",
        "X_test = pad_sequences(X_test, maxlen=max_len)\n",
        "Y_train = to_categorical(y_train)\n",
        "Y_test = to_categorical(y_test)\n",
        "X_train.shape, X_test.shape, Y_train.shape, Y_test.shape"
      ],
      "metadata": {
        "colab": {
          "base_uri": "https://localhost:8080/"
        },
        "id": "MFulWnJ2vSjN",
        "outputId": "7cd1c1ae-010e-498b-9d1c-a64b5ca98e6d"
      },
      "execution_count": 21,
      "outputs": [
        {
          "output_type": "execute_result",
          "data": {
            "text/plain": [
              "((8982, 100), (2246, 100), (8982, 46), (2246, 46))"
            ]
          },
          "metadata": {},
          "execution_count": 21
        }
      ]
    },
    {
      "cell_type": "code",
      "source": [
        "model2 = Sequential([\n",
        "    Embedding(max_words, 64, input_length=max_len),\n",
        "    LSTM(100),\n",
        "    Dense(46, activation='softmax')\n",
        "])\n",
        "\n",
        "model2.compile('adam', 'categorical_crossentropy', ['accuracy'])\n",
        "\n",
        "model_path = 'best-reuters-lstm-v2.h5'\n",
        "mc = ModelCheckpoint(model_path, save_best_only=True, verbose=1)\n",
        "es = EarlyStopping(patience=10)\n",
        "\n",
        "hist2 = model2.fit(\n",
        "    X_train, Y_train, validation_split=0.2, verbose=0,\n",
        "    epochs=100, batch_size=128, callbacks=[mc,es]\n",
        ")"
      ],
      "metadata": {
        "colab": {
          "base_uri": "https://localhost:8080/"
        },
        "id": "Lkz_CKIjyuK2",
        "outputId": "f7e521df-a850-4c0b-928f-d8f26e3dd399"
      },
      "execution_count": 22,
      "outputs": [
        {
          "output_type": "stream",
          "name": "stdout",
          "text": [
            "\n",
            "Epoch 1: val_loss improved from inf to 2.41680, saving model to best-reuters-lstm-v2.h5\n"
          ]
        },
        {
          "output_type": "stream",
          "name": "stderr",
          "text": [
            "/usr/local/lib/python3.10/dist-packages/keras/src/engine/training.py:3079: UserWarning: You are saving your model as an HDF5 file via `model.save()`. This file format is considered legacy. We recommend using instead the native Keras format, e.g. `model.save('my_model.keras')`.\n",
            "  saving_api.save_model(\n"
          ]
        },
        {
          "output_type": "stream",
          "name": "stdout",
          "text": [
            "\n",
            "Epoch 2: val_loss improved from 2.41680 to 2.40307, saving model to best-reuters-lstm-v2.h5\n",
            "\n",
            "Epoch 3: val_loss improved from 2.40307 to 2.05425, saving model to best-reuters-lstm-v2.h5\n",
            "\n",
            "Epoch 4: val_loss improved from 2.05425 to 1.99937, saving model to best-reuters-lstm-v2.h5\n",
            "\n",
            "Epoch 5: val_loss improved from 1.99937 to 1.90561, saving model to best-reuters-lstm-v2.h5\n",
            "\n",
            "Epoch 6: val_loss improved from 1.90561 to 1.89349, saving model to best-reuters-lstm-v2.h5\n",
            "\n",
            "Epoch 7: val_loss improved from 1.89349 to 1.71721, saving model to best-reuters-lstm-v2.h5\n",
            "\n",
            "Epoch 8: val_loss improved from 1.71721 to 1.66184, saving model to best-reuters-lstm-v2.h5\n",
            "\n",
            "Epoch 9: val_loss improved from 1.66184 to 1.57318, saving model to best-reuters-lstm-v2.h5\n",
            "\n",
            "Epoch 10: val_loss improved from 1.57318 to 1.52997, saving model to best-reuters-lstm-v2.h5\n",
            "\n",
            "Epoch 11: val_loss did not improve from 1.52997\n",
            "\n",
            "Epoch 12: val_loss improved from 1.52997 to 1.47766, saving model to best-reuters-lstm-v2.h5\n",
            "\n",
            "Epoch 13: val_loss did not improve from 1.47766\n",
            "\n",
            "Epoch 14: val_loss improved from 1.47766 to 1.42573, saving model to best-reuters-lstm-v2.h5\n",
            "\n",
            "Epoch 15: val_loss did not improve from 1.42573\n",
            "\n",
            "Epoch 16: val_loss improved from 1.42573 to 1.39468, saving model to best-reuters-lstm-v2.h5\n",
            "\n",
            "Epoch 17: val_loss improved from 1.39468 to 1.36348, saving model to best-reuters-lstm-v2.h5\n",
            "\n",
            "Epoch 18: val_loss improved from 1.36348 to 1.36229, saving model to best-reuters-lstm-v2.h5\n",
            "\n",
            "Epoch 19: val_loss did not improve from 1.36229\n",
            "\n",
            "Epoch 20: val_loss improved from 1.36229 to 1.34482, saving model to best-reuters-lstm-v2.h5\n",
            "\n",
            "Epoch 21: val_loss improved from 1.34482 to 1.31345, saving model to best-reuters-lstm-v2.h5\n",
            "\n",
            "Epoch 22: val_loss did not improve from 1.31345\n",
            "\n",
            "Epoch 23: val_loss did not improve from 1.31345\n",
            "\n",
            "Epoch 24: val_loss improved from 1.31345 to 1.29275, saving model to best-reuters-lstm-v2.h5\n",
            "\n",
            "Epoch 25: val_loss did not improve from 1.29275\n",
            "\n",
            "Epoch 26: val_loss did not improve from 1.29275\n",
            "\n",
            "Epoch 27: val_loss did not improve from 1.29275\n",
            "\n",
            "Epoch 28: val_loss did not improve from 1.29275\n",
            "\n",
            "Epoch 29: val_loss did not improve from 1.29275\n",
            "\n",
            "Epoch 30: val_loss did not improve from 1.29275\n",
            "\n",
            "Epoch 31: val_loss did not improve from 1.29275\n",
            "\n",
            "Epoch 32: val_loss did not improve from 1.29275\n",
            "\n",
            "Epoch 33: val_loss did not improve from 1.29275\n",
            "\n",
            "Epoch 34: val_loss did not improve from 1.29275\n"
          ]
        }
      ]
    },
    {
      "cell_type": "code",
      "source": [
        "best_model = load_model(model_path)\n",
        "best_model.evaluate(X_test, Y_test)"
      ],
      "metadata": {
        "colab": {
          "base_uri": "https://localhost:8080/"
        },
        "id": "2_-COHCyzEY9",
        "outputId": "4748c04b-e144-4eaa-a76c-5fd28b5e6237"
      },
      "execution_count": 23,
      "outputs": [
        {
          "output_type": "stream",
          "name": "stdout",
          "text": [
            "71/71 [==============================] - 1s 5ms/step - loss: 1.3513 - accuracy: 0.6683\n"
          ]
        },
        {
          "output_type": "execute_result",
          "data": {
            "text/plain": [
              "[1.351276159286499, 0.6682991981506348]"
            ]
          },
          "metadata": {},
          "execution_count": 23
        }
      ]
    },
    {
      "cell_type": "markdown",
      "source": [
        "#### LSTM으로 뉴스 분류 Ver.3\n",
        "- 문장 길이: 150 단어(최대: 2,376, 평균: 146)\n",
        "- 단어: 빈도수 기준 5,000 단어(총 단어수: 30,979)"
      ],
      "metadata": {
        "id": "yS0BqQ4VzxJV"
      }
    },
    {
      "cell_type": "code",
      "source": [
        "max_words = 5000\n",
        "max_len = 150\n",
        "(X_train, y_train), (X_test, y_test) = reuters.load_data(\n",
        "    num_words=max_words, test_split=0.2\n",
        ")\n",
        "X_train = pad_sequences(X_train, maxlen=max_len)\n",
        "X_test = pad_sequences(X_test, maxlen=max_len)\n",
        "Y_train = to_categorical(y_train)\n",
        "Y_test = to_categorical(y_test)\n",
        "X_train.shape, X_test.shape, Y_train.shape, Y_test.shape"
      ],
      "metadata": {
        "colab": {
          "base_uri": "https://localhost:8080/"
        },
        "id": "Woq6BvbgzWg9",
        "outputId": "e509d0dc-825c-4aed-ece6-9701abe11c71"
      },
      "execution_count": 24,
      "outputs": [
        {
          "output_type": "execute_result",
          "data": {
            "text/plain": [
              "((8982, 150), (2246, 150), (8982, 46), (2246, 46))"
            ]
          },
          "metadata": {},
          "execution_count": 24
        }
      ]
    },
    {
      "cell_type": "code",
      "source": [
        "model3 = Sequential([\n",
        "    Embedding(max_words, 64, input_length=max_len),\n",
        "    LSTM(100),\n",
        "    Dense(46, activation='softmax')\n",
        "])\n",
        "\n",
        "model3.compile('adam', 'categorical_crossentropy', ['accuracy'])\n",
        "\n",
        "model_path = 'best-reuters-lstm-v3.h5'\n",
        "mc = ModelCheckpoint(model_path, save_best_only=True, verbose=1)\n",
        "es = EarlyStopping(patience=10)\n",
        "\n",
        "hist3 = model3.fit(\n",
        "    X_train, Y_train, validation_split=0.2, verbose=0,\n",
        "    epochs=100, batch_size=128, callbacks=[mc,es]\n",
        ")"
      ],
      "metadata": {
        "colab": {
          "base_uri": "https://localhost:8080/"
        },
        "id": "DNKHqh6az-jz",
        "outputId": "1c824e74-4582-4575-c182-afce31a5ae24"
      },
      "execution_count": 25,
      "outputs": [
        {
          "output_type": "stream",
          "name": "stdout",
          "text": [
            "\n",
            "Epoch 1: val_loss improved from inf to 2.41380, saving model to best-reuters-lstm-v3.h5\n"
          ]
        },
        {
          "output_type": "stream",
          "name": "stderr",
          "text": [
            "/usr/local/lib/python3.10/dist-packages/keras/src/engine/training.py:3079: UserWarning: You are saving your model as an HDF5 file via `model.save()`. This file format is considered legacy. We recommend using instead the native Keras format, e.g. `model.save('my_model.keras')`.\n",
            "  saving_api.save_model(\n"
          ]
        },
        {
          "output_type": "stream",
          "name": "stdout",
          "text": [
            "\n",
            "Epoch 2: val_loss improved from 2.41380 to 2.13573, saving model to best-reuters-lstm-v3.h5\n",
            "\n",
            "Epoch 3: val_loss improved from 2.13573 to 2.01741, saving model to best-reuters-lstm-v3.h5\n",
            "\n",
            "Epoch 4: val_loss improved from 2.01741 to 1.85722, saving model to best-reuters-lstm-v3.h5\n",
            "\n",
            "Epoch 5: val_loss improved from 1.85722 to 1.70445, saving model to best-reuters-lstm-v3.h5\n",
            "\n",
            "Epoch 6: val_loss improved from 1.70445 to 1.61458, saving model to best-reuters-lstm-v3.h5\n",
            "\n",
            "Epoch 7: val_loss improved from 1.61458 to 1.60505, saving model to best-reuters-lstm-v3.h5\n",
            "\n",
            "Epoch 8: val_loss improved from 1.60505 to 1.49063, saving model to best-reuters-lstm-v3.h5\n",
            "\n",
            "Epoch 9: val_loss did not improve from 1.49063\n",
            "\n",
            "Epoch 10: val_loss improved from 1.49063 to 1.39506, saving model to best-reuters-lstm-v3.h5\n",
            "\n",
            "Epoch 11: val_loss did not improve from 1.39506\n",
            "\n",
            "Epoch 12: val_loss improved from 1.39506 to 1.35808, saving model to best-reuters-lstm-v3.h5\n",
            "\n",
            "Epoch 13: val_loss did not improve from 1.35808\n",
            "\n",
            "Epoch 14: val_loss did not improve from 1.35808\n",
            "\n",
            "Epoch 15: val_loss did not improve from 1.35808\n",
            "\n",
            "Epoch 16: val_loss did not improve from 1.35808\n",
            "\n",
            "Epoch 17: val_loss did not improve from 1.35808\n",
            "\n",
            "Epoch 18: val_loss did not improve from 1.35808\n",
            "\n",
            "Epoch 19: val_loss did not improve from 1.35808\n",
            "\n",
            "Epoch 20: val_loss did not improve from 1.35808\n",
            "\n",
            "Epoch 21: val_loss did not improve from 1.35808\n",
            "\n",
            "Epoch 22: val_loss did not improve from 1.35808\n"
          ]
        }
      ]
    },
    {
      "cell_type": "code",
      "source": [
        "best_model = load_model(model_path)\n",
        "best_model.evaluate(X_test, Y_test)"
      ],
      "metadata": {
        "colab": {
          "base_uri": "https://localhost:8080/"
        },
        "id": "zUQ92zp_0Iap",
        "outputId": "7066f82c-fab3-479f-fbb9-cdc260f551c8"
      },
      "execution_count": 26,
      "outputs": [
        {
          "output_type": "stream",
          "name": "stdout",
          "text": [
            "71/71 [==============================] - 2s 9ms/step - loss: 1.4432 - accuracy: 0.6465\n"
          ]
        },
        {
          "output_type": "execute_result",
          "data": {
            "text/plain": [
              "[1.4432430267333984, 0.6464826464653015]"
            ]
          },
          "metadata": {},
          "execution_count": 26
        }
      ]
    },
    {
      "cell_type": "markdown",
      "source": [
        "- 결과 비교"
      ],
      "metadata": {
        "id": "TNg-6dcq1F9d"
      }
    },
    {
      "cell_type": "code",
      "source": [
        "import pandas as pd\n",
        "num_words = [100, 120, 150]\n",
        "words_per_article = [1000, 3000, 5000]\n",
        "num_embed = [64, 64, 64]\n",
        "num_units = [100, 100, 100]\n",
        "acc = [0.6683, 0.6456, 0.6465]\n",
        "df = pd.DataFrame({\n",
        "    '고유단어수':num_words, '기사당 단어수':words_per_article, '임베딩 벡터':num_embed,\n",
        "    'LSTM 유닛':num_units, '정확도':acc\n",
        "})\n",
        "df"
      ],
      "metadata": {
        "colab": {
          "base_uri": "https://localhost:8080/",
          "height": 143
        },
        "id": "ueCpDvyI05b-",
        "outputId": "2dd9e01d-3cb9-44c0-ce64-ef7290cea2de"
      },
      "execution_count": 27,
      "outputs": [
        {
          "output_type": "execute_result",
          "data": {
            "text/plain": [
              "   고유단어수  기사당 단어수  임베딩 벡터  LSTM 유닛     정확도\n",
              "0    100     1000      64      100  0.6683\n",
              "1    120     3000      64      100  0.6456\n",
              "2    150     5000      64      100  0.6465"
            ],
            "text/html": [
              "\n",
              "  <div id=\"df-88240a54-0c79-45a3-97f7-7b2df90fb880\" class=\"colab-df-container\">\n",
              "    <div>\n",
              "<style scoped>\n",
              "    .dataframe tbody tr th:only-of-type {\n",
              "        vertical-align: middle;\n",
              "    }\n",
              "\n",
              "    .dataframe tbody tr th {\n",
              "        vertical-align: top;\n",
              "    }\n",
              "\n",
              "    .dataframe thead th {\n",
              "        text-align: right;\n",
              "    }\n",
              "</style>\n",
              "<table border=\"1\" class=\"dataframe\">\n",
              "  <thead>\n",
              "    <tr style=\"text-align: right;\">\n",
              "      <th></th>\n",
              "      <th>고유단어수</th>\n",
              "      <th>기사당 단어수</th>\n",
              "      <th>임베딩 벡터</th>\n",
              "      <th>LSTM 유닛</th>\n",
              "      <th>정확도</th>\n",
              "    </tr>\n",
              "  </thead>\n",
              "  <tbody>\n",
              "    <tr>\n",
              "      <th>0</th>\n",
              "      <td>100</td>\n",
              "      <td>1000</td>\n",
              "      <td>64</td>\n",
              "      <td>100</td>\n",
              "      <td>0.6683</td>\n",
              "    </tr>\n",
              "    <tr>\n",
              "      <th>1</th>\n",
              "      <td>120</td>\n",
              "      <td>3000</td>\n",
              "      <td>64</td>\n",
              "      <td>100</td>\n",
              "      <td>0.6456</td>\n",
              "    </tr>\n",
              "    <tr>\n",
              "      <th>2</th>\n",
              "      <td>150</td>\n",
              "      <td>5000</td>\n",
              "      <td>64</td>\n",
              "      <td>100</td>\n",
              "      <td>0.6465</td>\n",
              "    </tr>\n",
              "  </tbody>\n",
              "</table>\n",
              "</div>\n",
              "    <div class=\"colab-df-buttons\">\n",
              "\n",
              "  <div class=\"colab-df-container\">\n",
              "    <button class=\"colab-df-convert\" onclick=\"convertToInteractive('df-88240a54-0c79-45a3-97f7-7b2df90fb880')\"\n",
              "            title=\"Convert this dataframe to an interactive table.\"\n",
              "            style=\"display:none;\">\n",
              "\n",
              "  <svg xmlns=\"http://www.w3.org/2000/svg\" height=\"24px\" viewBox=\"0 -960 960 960\">\n",
              "    <path d=\"M120-120v-720h720v720H120Zm60-500h600v-160H180v160Zm220 220h160v-160H400v160Zm0 220h160v-160H400v160ZM180-400h160v-160H180v160Zm440 0h160v-160H620v160ZM180-180h160v-160H180v160Zm440 0h160v-160H620v160Z\"/>\n",
              "  </svg>\n",
              "    </button>\n",
              "\n",
              "  <style>\n",
              "    .colab-df-container {\n",
              "      display:flex;\n",
              "      gap: 12px;\n",
              "    }\n",
              "\n",
              "    .colab-df-convert {\n",
              "      background-color: #E8F0FE;\n",
              "      border: none;\n",
              "      border-radius: 50%;\n",
              "      cursor: pointer;\n",
              "      display: none;\n",
              "      fill: #1967D2;\n",
              "      height: 32px;\n",
              "      padding: 0 0 0 0;\n",
              "      width: 32px;\n",
              "    }\n",
              "\n",
              "    .colab-df-convert:hover {\n",
              "      background-color: #E2EBFA;\n",
              "      box-shadow: 0px 1px 2px rgba(60, 64, 67, 0.3), 0px 1px 3px 1px rgba(60, 64, 67, 0.15);\n",
              "      fill: #174EA6;\n",
              "    }\n",
              "\n",
              "    .colab-df-buttons div {\n",
              "      margin-bottom: 4px;\n",
              "    }\n",
              "\n",
              "    [theme=dark] .colab-df-convert {\n",
              "      background-color: #3B4455;\n",
              "      fill: #D2E3FC;\n",
              "    }\n",
              "\n",
              "    [theme=dark] .colab-df-convert:hover {\n",
              "      background-color: #434B5C;\n",
              "      box-shadow: 0px 1px 3px 1px rgba(0, 0, 0, 0.15);\n",
              "      filter: drop-shadow(0px 1px 2px rgba(0, 0, 0, 0.3));\n",
              "      fill: #FFFFFF;\n",
              "    }\n",
              "  </style>\n",
              "\n",
              "    <script>\n",
              "      const buttonEl =\n",
              "        document.querySelector('#df-88240a54-0c79-45a3-97f7-7b2df90fb880 button.colab-df-convert');\n",
              "      buttonEl.style.display =\n",
              "        google.colab.kernel.accessAllowed ? 'block' : 'none';\n",
              "\n",
              "      async function convertToInteractive(key) {\n",
              "        const element = document.querySelector('#df-88240a54-0c79-45a3-97f7-7b2df90fb880');\n",
              "        const dataTable =\n",
              "          await google.colab.kernel.invokeFunction('convertToInteractive',\n",
              "                                                    [key], {});\n",
              "        if (!dataTable) return;\n",
              "\n",
              "        const docLinkHtml = 'Like what you see? Visit the ' +\n",
              "          '<a target=\"_blank\" href=https://colab.research.google.com/notebooks/data_table.ipynb>data table notebook</a>'\n",
              "          + ' to learn more about interactive tables.';\n",
              "        element.innerHTML = '';\n",
              "        dataTable['output_type'] = 'display_data';\n",
              "        await google.colab.output.renderOutput(dataTable, element);\n",
              "        const docLink = document.createElement('div');\n",
              "        docLink.innerHTML = docLinkHtml;\n",
              "        element.appendChild(docLink);\n",
              "      }\n",
              "    </script>\n",
              "  </div>\n",
              "\n",
              "\n",
              "<div id=\"df-ac58e79c-144e-4eda-8ee7-a2feef4674eb\">\n",
              "  <button class=\"colab-df-quickchart\" onclick=\"quickchart('df-ac58e79c-144e-4eda-8ee7-a2feef4674eb')\"\n",
              "            title=\"Suggest charts\"\n",
              "            style=\"display:none;\">\n",
              "\n",
              "<svg xmlns=\"http://www.w3.org/2000/svg\" height=\"24px\"viewBox=\"0 0 24 24\"\n",
              "     width=\"24px\">\n",
              "    <g>\n",
              "        <path d=\"M19 3H5c-1.1 0-2 .9-2 2v14c0 1.1.9 2 2 2h14c1.1 0 2-.9 2-2V5c0-1.1-.9-2-2-2zM9 17H7v-7h2v7zm4 0h-2V7h2v10zm4 0h-2v-4h2v4z\"/>\n",
              "    </g>\n",
              "</svg>\n",
              "  </button>\n",
              "\n",
              "<style>\n",
              "  .colab-df-quickchart {\n",
              "      --bg-color: #E8F0FE;\n",
              "      --fill-color: #1967D2;\n",
              "      --hover-bg-color: #E2EBFA;\n",
              "      --hover-fill-color: #174EA6;\n",
              "      --disabled-fill-color: #AAA;\n",
              "      --disabled-bg-color: #DDD;\n",
              "  }\n",
              "\n",
              "  [theme=dark] .colab-df-quickchart {\n",
              "      --bg-color: #3B4455;\n",
              "      --fill-color: #D2E3FC;\n",
              "      --hover-bg-color: #434B5C;\n",
              "      --hover-fill-color: #FFFFFF;\n",
              "      --disabled-bg-color: #3B4455;\n",
              "      --disabled-fill-color: #666;\n",
              "  }\n",
              "\n",
              "  .colab-df-quickchart {\n",
              "    background-color: var(--bg-color);\n",
              "    border: none;\n",
              "    border-radius: 50%;\n",
              "    cursor: pointer;\n",
              "    display: none;\n",
              "    fill: var(--fill-color);\n",
              "    height: 32px;\n",
              "    padding: 0;\n",
              "    width: 32px;\n",
              "  }\n",
              "\n",
              "  .colab-df-quickchart:hover {\n",
              "    background-color: var(--hover-bg-color);\n",
              "    box-shadow: 0 1px 2px rgba(60, 64, 67, 0.3), 0 1px 3px 1px rgba(60, 64, 67, 0.15);\n",
              "    fill: var(--button-hover-fill-color);\n",
              "  }\n",
              "\n",
              "  .colab-df-quickchart-complete:disabled,\n",
              "  .colab-df-quickchart-complete:disabled:hover {\n",
              "    background-color: var(--disabled-bg-color);\n",
              "    fill: var(--disabled-fill-color);\n",
              "    box-shadow: none;\n",
              "  }\n",
              "\n",
              "  .colab-df-spinner {\n",
              "    border: 2px solid var(--fill-color);\n",
              "    border-color: transparent;\n",
              "    border-bottom-color: var(--fill-color);\n",
              "    animation:\n",
              "      spin 1s steps(1) infinite;\n",
              "  }\n",
              "\n",
              "  @keyframes spin {\n",
              "    0% {\n",
              "      border-color: transparent;\n",
              "      border-bottom-color: var(--fill-color);\n",
              "      border-left-color: var(--fill-color);\n",
              "    }\n",
              "    20% {\n",
              "      border-color: transparent;\n",
              "      border-left-color: var(--fill-color);\n",
              "      border-top-color: var(--fill-color);\n",
              "    }\n",
              "    30% {\n",
              "      border-color: transparent;\n",
              "      border-left-color: var(--fill-color);\n",
              "      border-top-color: var(--fill-color);\n",
              "      border-right-color: var(--fill-color);\n",
              "    }\n",
              "    40% {\n",
              "      border-color: transparent;\n",
              "      border-right-color: var(--fill-color);\n",
              "      border-top-color: var(--fill-color);\n",
              "    }\n",
              "    60% {\n",
              "      border-color: transparent;\n",
              "      border-right-color: var(--fill-color);\n",
              "    }\n",
              "    80% {\n",
              "      border-color: transparent;\n",
              "      border-right-color: var(--fill-color);\n",
              "      border-bottom-color: var(--fill-color);\n",
              "    }\n",
              "    90% {\n",
              "      border-color: transparent;\n",
              "      border-bottom-color: var(--fill-color);\n",
              "    }\n",
              "  }\n",
              "</style>\n",
              "\n",
              "  <script>\n",
              "    async function quickchart(key) {\n",
              "      const quickchartButtonEl =\n",
              "        document.querySelector('#' + key + ' button');\n",
              "      quickchartButtonEl.disabled = true;  // To prevent multiple clicks.\n",
              "      quickchartButtonEl.classList.add('colab-df-spinner');\n",
              "      try {\n",
              "        const charts = await google.colab.kernel.invokeFunction(\n",
              "            'suggestCharts', [key], {});\n",
              "      } catch (error) {\n",
              "        console.error('Error during call to suggestCharts:', error);\n",
              "      }\n",
              "      quickchartButtonEl.classList.remove('colab-df-spinner');\n",
              "      quickchartButtonEl.classList.add('colab-df-quickchart-complete');\n",
              "    }\n",
              "    (() => {\n",
              "      let quickchartButtonEl =\n",
              "        document.querySelector('#df-ac58e79c-144e-4eda-8ee7-a2feef4674eb button');\n",
              "      quickchartButtonEl.style.display =\n",
              "        google.colab.kernel.accessAllowed ? 'block' : 'none';\n",
              "    })();\n",
              "  </script>\n",
              "</div>\n",
              "    </div>\n",
              "  </div>\n"
            ]
          },
          "metadata": {},
          "execution_count": 27
        }
      ]
    },
    {
      "cell_type": "code",
      "source": [],
      "metadata": {
        "id": "SfCI2ew82S8N"
      },
      "execution_count": null,
      "outputs": []
    }
  ]
}